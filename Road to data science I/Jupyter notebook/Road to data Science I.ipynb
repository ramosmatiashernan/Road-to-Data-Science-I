{
 "cells": [
  {
   "cell_type": "code",
   "execution_count": 112,
   "id": "0f0cb272",
   "metadata": {},
   "outputs": [],
   "source": [
    "import pandas as pd"
   ]
  },
  {
   "cell_type": "code",
   "execution_count": 113,
   "id": "fea1426c",
   "metadata": {},
   "outputs": [
    {
     "data": {
      "text/html": [
       "<div>\n",
       "<style scoped>\n",
       "    .dataframe tbody tr th:only-of-type {\n",
       "        vertical-align: middle;\n",
       "    }\n",
       "\n",
       "    .dataframe tbody tr th {\n",
       "        vertical-align: top;\n",
       "    }\n",
       "\n",
       "    .dataframe thead th {\n",
       "        text-align: right;\n",
       "    }\n",
       "</style>\n",
       "<table border=\"1\" class=\"dataframe\">\n",
       "  <thead>\n",
       "    <tr style=\"text-align: right;\">\n",
       "      <th></th>\n",
       "      <th>title</th>\n",
       "      <th>score</th>\n",
       "      <th>score_phrase</th>\n",
       "      <th>platform</th>\n",
       "      <th>genre</th>\n",
       "      <th>release_year</th>\n",
       "      <th>release_month</th>\n",
       "      <th>release_day</th>\n",
       "    </tr>\n",
       "  </thead>\n",
       "  <tbody>\n",
       "    <tr>\n",
       "      <th>0</th>\n",
       "      <td>Checkered Flag</td>\n",
       "      <td>10.0</td>\n",
       "      <td>Masterpiece</td>\n",
       "      <td>Lynx</td>\n",
       "      <td>Racing</td>\n",
       "      <td>1999</td>\n",
       "      <td>7</td>\n",
       "      <td>6</td>\n",
       "    </tr>\n",
       "    <tr>\n",
       "      <th>1</th>\n",
       "      <td>Chrono Trigger</td>\n",
       "      <td>10.0</td>\n",
       "      <td>Masterpiece</td>\n",
       "      <td>Wii</td>\n",
       "      <td>Action, RPG</td>\n",
       "      <td>2011</td>\n",
       "      <td>5</td>\n",
       "      <td>25</td>\n",
       "    </tr>\n",
       "    <tr>\n",
       "      <th>2</th>\n",
       "      <td>Dragon Warrior III</td>\n",
       "      <td>10.0</td>\n",
       "      <td>Masterpiece</td>\n",
       "      <td>Game Boy Color</td>\n",
       "      <td>RPG</td>\n",
       "      <td>2001</td>\n",
       "      <td>7</td>\n",
       "      <td>20</td>\n",
       "    </tr>\n",
       "  </tbody>\n",
       "</table>\n",
       "</div>"
      ],
      "text/plain": [
       "                title  score score_phrase        platform        genre  \\\n",
       "0      Checkered Flag   10.0  Masterpiece            Lynx       Racing   \n",
       "1      Chrono Trigger   10.0  Masterpiece             Wii  Action, RPG   \n",
       "2  Dragon Warrior III   10.0  Masterpiece  Game Boy Color          RPG   \n",
       "\n",
       "   release_year  release_month  release_day  \n",
       "0          1999              7            6  \n",
       "1          2011              5           25  \n",
       "2          2001              7           20  "
      ]
     },
     "execution_count": 113,
     "metadata": {},
     "output_type": "execute_result"
    }
   ],
   "source": [
    "df = pd.read_csv('D:/ESCRITORIO/Github/Road to data science I/Database/IGN games from best to worst.csv')\n",
    "df.head(3)"
   ]
  },
  {
   "cell_type": "code",
   "execution_count": 114,
   "id": "5063fe5a",
   "metadata": {},
   "outputs": [
    {
     "data": {
      "text/plain": [
       "(18625, 8)"
      ]
     },
     "execution_count": 114,
     "metadata": {},
     "output_type": "execute_result"
    }
   ],
   "source": [
    "df.shape"
   ]
  },
  {
   "cell_type": "code",
   "execution_count": 115,
   "id": "3e2c1969",
   "metadata": {
    "scrolled": true
   },
   "outputs": [
    {
     "name": "stdout",
     "output_type": "stream",
     "text": [
      "<class 'pandas.core.frame.DataFrame'>\n",
      "RangeIndex: 18625 entries, 0 to 18624\n",
      "Data columns (total 8 columns):\n",
      " #   Column         Non-Null Count  Dtype  \n",
      "---  ------         --------------  -----  \n",
      " 0   title          18625 non-null  object \n",
      " 1   score          18625 non-null  float64\n",
      " 2   score_phrase   18625 non-null  object \n",
      " 3   platform       18625 non-null  object \n",
      " 4   genre          18589 non-null  object \n",
      " 5   release_year   18625 non-null  int64  \n",
      " 6   release_month  18625 non-null  int64  \n",
      " 7   release_day    18625 non-null  int64  \n",
      "dtypes: float64(1), int64(3), object(4)\n",
      "memory usage: 1.1+ MB\n"
     ]
    }
   ],
   "source": [
    "df.info()"
   ]
  },
  {
   "cell_type": "code",
   "execution_count": 116,
   "id": "462a9e65",
   "metadata": {},
   "outputs": [],
   "source": [
    "import matplotlib.pyplot as plt\n",
    "%matplotlib inline"
   ]
  },
  {
   "cell_type": "code",
   "execution_count": 117,
   "id": "5e80fcd3",
   "metadata": {},
   "outputs": [
    {
     "data": {
      "text/plain": [
       "(12589,)"
      ]
     },
     "execution_count": 117,
     "metadata": {},
     "output_type": "execute_result"
    }
   ],
   "source": [
    "df.title.unique().shape"
   ]
  },
  {
   "cell_type": "markdown",
   "id": "4f58f33c",
   "metadata": {},
   "source": [
    "There are many different title names in the column of titles."
   ]
  },
  {
   "cell_type": "code",
   "execution_count": 118,
   "id": "d7f50417",
   "metadata": {
    "scrolled": true
   },
   "outputs": [
    {
     "data": {
      "text/plain": [
       "Cars                                           10\n",
       "Open Season                                    10\n",
       "Madden NFL 07                                  10\n",
       "Brain Challenge                                 9\n",
       "Madden NFL 08                                   9\n",
       "                                               ..\n",
       "Twin Blades HD                                  1\n",
       "Ultimate Mortal Kombat                          1\n",
       "Ultimate Muscle: Legends vs. New Generation     1\n",
       "Ultimate Ride                                   1\n",
       "Looney Tunes: Back in Action: Zany Race         1\n",
       "Name: title, Length: 12589, dtype: int64"
      ]
     },
     "execution_count": 118,
     "metadata": {},
     "output_type": "execute_result"
    }
   ],
   "source": [
    "df.title.value_counts()"
   ]
  },
  {
   "cell_type": "markdown",
   "id": "f866b09a",
   "metadata": {},
   "source": [
    "The maximum value count is of 10. Thus, this column won't be further analized"
   ]
  },
  {
   "cell_type": "code",
   "execution_count": 119,
   "id": "0f41a442",
   "metadata": {},
   "outputs": [
    {
     "data": {
      "text/html": [
       "<div>\n",
       "<style scoped>\n",
       "    .dataframe tbody tr th:only-of-type {\n",
       "        vertical-align: middle;\n",
       "    }\n",
       "\n",
       "    .dataframe tbody tr th {\n",
       "        vertical-align: top;\n",
       "    }\n",
       "\n",
       "    .dataframe thead th {\n",
       "        text-align: right;\n",
       "    }\n",
       "</style>\n",
       "<table border=\"1\" class=\"dataframe\">\n",
       "  <thead>\n",
       "    <tr style=\"text-align: right;\">\n",
       "      <th></th>\n",
       "      <th>score_phrase</th>\n",
       "      <th>platform</th>\n",
       "      <th>genre</th>\n",
       "    </tr>\n",
       "  </thead>\n",
       "  <tbody>\n",
       "    <tr>\n",
       "      <th>0</th>\n",
       "      <td>Masterpiece</td>\n",
       "      <td>Lynx</td>\n",
       "      <td>Racing</td>\n",
       "    </tr>\n",
       "    <tr>\n",
       "      <th>1</th>\n",
       "      <td>Masterpiece</td>\n",
       "      <td>Wii</td>\n",
       "      <td>Action, RPG</td>\n",
       "    </tr>\n",
       "    <tr>\n",
       "      <th>2</th>\n",
       "      <td>Masterpiece</td>\n",
       "      <td>Game Boy Color</td>\n",
       "      <td>RPG</td>\n",
       "    </tr>\n",
       "  </tbody>\n",
       "</table>\n",
       "</div>"
      ],
      "text/plain": [
       "  score_phrase        platform        genre\n",
       "0  Masterpiece            Lynx       Racing\n",
       "1  Masterpiece             Wii  Action, RPG\n",
       "2  Masterpiece  Game Boy Color          RPG"
      ]
     },
     "execution_count": 119,
     "metadata": {},
     "output_type": "execute_result"
    }
   ],
   "source": [
    "df_without_title_col = df.select_dtypes('O').drop('title',axis='columns')\n",
    "df_without_title_col.head(3)"
   ]
  },
  {
   "cell_type": "code",
   "execution_count": 120,
   "id": "827576c8",
   "metadata": {},
   "outputs": [
    {
     "data": {
      "text/plain": [
       "(11,)"
      ]
     },
     "execution_count": 120,
     "metadata": {},
     "output_type": "execute_result"
    }
   ],
   "source": [
    "df_without_title_col.score_phrase.unique().shape"
   ]
  },
  {
   "cell_type": "code",
   "execution_count": 121,
   "id": "3527b487",
   "metadata": {},
   "outputs": [
    {
     "data": {
      "text/plain": [
       "Great          4773\n",
       "Good           4741\n",
       "Okay           2945\n",
       "Mediocre       1959\n",
       "Amazing        1804\n",
       "Bad            1269\n",
       "Awful           664\n",
       "Painful         340\n",
       "Unbearable       72\n",
       "Masterpiece      55\n",
       "Disaster          3\n",
       "Name: score_phrase, dtype: int64"
      ]
     },
     "execution_count": 121,
     "metadata": {},
     "output_type": "execute_result"
    }
   ],
   "source": [
    "df_without_title_col.score_phrase.value_counts()"
   ]
  },
  {
   "cell_type": "code",
   "execution_count": 122,
   "id": "7e8a12b9",
   "metadata": {},
   "outputs": [
    {
     "data": {
      "text/plain": [
       "(59,)"
      ]
     },
     "execution_count": 122,
     "metadata": {},
     "output_type": "execute_result"
    }
   ],
   "source": [
    "df_without_title_col.platform.unique().shape"
   ]
  },
  {
   "cell_type": "code",
   "execution_count": 123,
   "id": "f6f65919",
   "metadata": {},
   "outputs": [
    {
     "data": {
      "text/plain": [
       "PC                      3370\n",
       "PlayStation 2           1686\n",
       "Xbox 360                1631\n",
       "Wii                     1366\n",
       "PlayStation 3           1356\n",
       "Nintendo DS             1045\n",
       "PlayStation              952\n",
       "Wireless                 910\n",
       "iPhone                   842\n",
       "Xbox                     821\n",
       "PlayStation Portable     633\n",
       "Game Boy Advance         623\n",
       "GameCube                 509\n",
       "Game Boy Color           356\n",
       "Nintendo 64              302\n",
       "Dreamcast                286\n",
       "PlayStation 4            277\n",
       "Nintendo DSi             254\n",
       "Nintendo 3DS             225\n",
       "Xbox One                 208\n",
       "PlayStation Vita         155\n",
       "Wii U                    114\n",
       "iPad                      99\n",
       "Lynx                      82\n",
       "Macintosh                 81\n",
       "Genesis                   58\n",
       "NES                       49\n",
       "TurboGrafx-16             40\n",
       "Android                   39\n",
       "Super NES                 33\n",
       "NeoGeo Pocket Color       31\n",
       "N-Gage                    30\n",
       "Game Boy                  22\n",
       "iPod                      17\n",
       "Sega 32X                  16\n",
       "Windows Phone             14\n",
       "Master System             13\n",
       "Arcade                    11\n",
       "NeoGeo                    10\n",
       "Linux                     10\n",
       "Nintendo 64DD              7\n",
       "Commodore 64/128           6\n",
       "Saturn                     6\n",
       "Atari 2600                 5\n",
       "WonderSwan                 4\n",
       "TurboGrafx-CD              3\n",
       "Game.Com                   3\n",
       "Atari 5200                 2\n",
       "New Nintendo 3DS           2\n",
       "Vectrex                    2\n",
       "Dreamcast VMU              1\n",
       "Windows Surface            1\n",
       "Sega CD                    1\n",
       "WonderSwan Color           1\n",
       "Ouya                       1\n",
       "Web Games                  1\n",
       "Pocket PC                  1\n",
       "SteamOS                    1\n",
       "DVD / HD Video Game        1\n",
       "Name: platform, dtype: int64"
      ]
     },
     "execution_count": 123,
     "metadata": {},
     "output_type": "execute_result"
    }
   ],
   "source": [
    "df_without_title_col.platform.value_counts()"
   ]
  },
  {
   "cell_type": "code",
   "execution_count": 124,
   "id": "575a7779",
   "metadata": {},
   "outputs": [
    {
     "data": {
      "text/plain": [
       "(113,)"
      ]
     },
     "execution_count": 124,
     "metadata": {},
     "output_type": "execute_result"
    }
   ],
   "source": [
    "df_without_title_col.genre.unique().shape"
   ]
  },
  {
   "cell_type": "markdown",
   "id": "e75ec294",
   "metadata": {},
   "source": [
    "For the genre column, there are many different values also. It won't be easy to visualize in a frequency bar figure. With some criteria, like value count less than 20, we could replace those genres with \"other genre\""
   ]
  },
  {
   "cell_type": "code",
   "execution_count": 125,
   "id": "e19fc46b",
   "metadata": {
    "scrolled": true
   },
   "outputs": [
    {
     "data": {
      "text/plain": [
       "score_phrase     0\n",
       "platform         0\n",
       "genre           36\n",
       "dtype: int64"
      ]
     },
     "execution_count": 125,
     "metadata": {},
     "output_type": "execute_result"
    }
   ],
   "source": [
    "df_without_title_col.isna().sum()"
   ]
  },
  {
   "cell_type": "code",
   "execution_count": 126,
   "id": "4f482a36",
   "metadata": {},
   "outputs": [],
   "source": [
    "df_without_title_col = df_without_title_col[df_without_title_col.genre.isnull() == False]"
   ]
  },
  {
   "cell_type": "code",
   "execution_count": 127,
   "id": "8a1e2c95",
   "metadata": {},
   "outputs": [
    {
     "data": {
      "text/plain": [
       "score_phrase    0\n",
       "platform        0\n",
       "genre           0\n",
       "dtype: int64"
      ]
     },
     "execution_count": 127,
     "metadata": {},
     "output_type": "execute_result"
    }
   ],
   "source": [
    "df_without_title_col.isna().sum()"
   ]
  },
  {
   "cell_type": "code",
   "execution_count": 128,
   "id": "a5e64a47",
   "metadata": {},
   "outputs": [
    {
     "data": {
      "text/html": [
       "<div>\n",
       "<style scoped>\n",
       "    .dataframe tbody tr th:only-of-type {\n",
       "        vertical-align: middle;\n",
       "    }\n",
       "\n",
       "    .dataframe tbody tr th {\n",
       "        vertical-align: top;\n",
       "    }\n",
       "\n",
       "    .dataframe thead th {\n",
       "        text-align: right;\n",
       "    }\n",
       "</style>\n",
       "<table border=\"1\" class=\"dataframe\">\n",
       "  <thead>\n",
       "    <tr style=\"text-align: right;\">\n",
       "      <th></th>\n",
       "      <th>score_phrase</th>\n",
       "      <th>platform</th>\n",
       "      <th>genre</th>\n",
       "    </tr>\n",
       "  </thead>\n",
       "  <tbody>\n",
       "    <tr>\n",
       "      <th>0</th>\n",
       "      <td>Masterpiece</td>\n",
       "      <td>Lynx</td>\n",
       "      <td>Racing</td>\n",
       "    </tr>\n",
       "    <tr>\n",
       "      <th>1</th>\n",
       "      <td>Masterpiece</td>\n",
       "      <td>Wii</td>\n",
       "      <td>Action, RPG</td>\n",
       "    </tr>\n",
       "    <tr>\n",
       "      <th>2</th>\n",
       "      <td>Masterpiece</td>\n",
       "      <td>Game Boy Color</td>\n",
       "      <td>RPG</td>\n",
       "    </tr>\n",
       "    <tr>\n",
       "      <th>3</th>\n",
       "      <td>Masterpiece</td>\n",
       "      <td>Xbox 360</td>\n",
       "      <td>Action, Adventure</td>\n",
       "    </tr>\n",
       "    <tr>\n",
       "      <th>4</th>\n",
       "      <td>Masterpiece</td>\n",
       "      <td>PlayStation 3</td>\n",
       "      <td>Action, Adventure</td>\n",
       "    </tr>\n",
       "  </tbody>\n",
       "</table>\n",
       "</div>"
      ],
      "text/plain": [
       "  score_phrase        platform              genre\n",
       "0  Masterpiece            Lynx             Racing\n",
       "1  Masterpiece             Wii        Action, RPG\n",
       "2  Masterpiece  Game Boy Color                RPG\n",
       "3  Masterpiece        Xbox 360  Action, Adventure\n",
       "4  Masterpiece   PlayStation 3  Action, Adventure"
      ]
     },
     "execution_count": 128,
     "metadata": {},
     "output_type": "execute_result"
    }
   ],
   "source": [
    "df_without_title_col.head()"
   ]
  },
  {
   "cell_type": "code",
   "execution_count": 129,
   "id": "9892aeb5",
   "metadata": {},
   "outputs": [
    {
     "data": {
      "text/plain": [
       "Action                      3797\n",
       "Sports                      1916\n",
       "Shooter                     1610\n",
       "Racing                      1228\n",
       "Adventure                   1175\n",
       "                            ... \n",
       "RPG, Action                    1\n",
       "Strategy, Simulation           1\n",
       "Compilation, Compilation       1\n",
       "Action, Editor                 1\n",
       "Action, Strategy               1\n",
       "Name: genre, Length: 112, dtype: int64"
      ]
     },
     "execution_count": 129,
     "metadata": {},
     "output_type": "execute_result"
    }
   ],
   "source": [
    "df_without_title_col.genre.value_counts()"
   ]
  },
  {
   "cell_type": "code",
   "execution_count": 130,
   "id": "5780a58f",
   "metadata": {
    "scrolled": true
   },
   "outputs": [],
   "source": [
    "for i in df_without_title_col.genre:\n",
    "    #print(i)\n",
    "    #print(df_without_title_col.genre.iloc[i])\n",
    "    try:\n",
    "        if df_without_title_col.genre.value_counts()[i]<20:\n",
    "            #print(i)\n",
    "            df_without_title_col.genre = df_without_title_col.genre.replace(i,'other genre')\n",
    "            \n",
    "            #print(df_without_title_col.genre.iloc[i])\n",
    "    except:\n",
    "        a=2\n",
    "    #print(i)    "
   ]
  },
  {
   "cell_type": "code",
   "execution_count": 131,
   "id": "ccdb284c",
   "metadata": {},
   "outputs": [],
   "source": [
    "def graficos_eda_categoricos(cat):\n",
    "\n",
    "    #Calculamos el número de filas que necesitamos\n",
    "    from math import ceil\n",
    "    filas = ceil(cat.shape[1] / 2)\n",
    "\n",
    "    #Definimos el gráfico\n",
    "    f, ax = plt.subplots(nrows = 3, ncols = 1, figsize = (10, filas * 12))\n",
    "\n",
    "    #Aplanamos para iterar por el gráfico como si fuera de 1 dimensión en lugar de 2\n",
    "    ax = ax.flat \n",
    "\n",
    "    #Creamos el bucle que va añadiendo gráficos\n",
    "    for cada, variable in enumerate(cat):\n",
    "        cat[variable].value_counts().plot.barh(ax = ax[cada])\n",
    "        ax[cada].set_title(variable, fontsize = 12, fontweight = \"bold\")\n",
    "        ax[cada].tick_params(labelsize = 6)"
   ]
  },
  {
   "cell_type": "code",
   "execution_count": 132,
   "id": "b2720e7a",
   "metadata": {
    "scrolled": false
   },
   "outputs": [
    {
     "data": {
      "image/png": "[encoded data removed]",
      "text/plain": [
       "<Figure size 1000x2400 with 3 Axes>"
      ]
     },
     "metadata": {},
     "output_type": "display_data"
    }
   ],
   "source": [
    "graficos_eda_categoricos(df_without_title_col)"
   ]
  },
  {
   "cell_type": "code",
   "execution_count": 133,
   "id": "c387348f",
   "metadata": {},
   "outputs": [],
   "source": [
    "def estadistic_cont(num):\n",
    "    #Calculamos describe\n",
    "    estadistics = num.describe().T\n",
    "    #Añadimos la mediana\n",
    "    estadistics['median'] = num.median()\n",
    "    #Reordenamos para que la mediana esté al lado de la media\n",
    "    estadistics = estadistics.iloc[:,[0,1,8,2,3,4,5,6,7]]\n",
    "    #Lo devolvemos\n",
    "    return(estadistics)"
   ]
  },
  {
   "cell_type": "code",
   "execution_count": 134,
   "id": "a4bbd503",
   "metadata": {},
   "outputs": [
    {
     "data": {
      "text/html": [
       "<div>\n",
       "<style scoped>\n",
       "    .dataframe tbody tr th:only-of-type {\n",
       "        vertical-align: middle;\n",
       "    }\n",
       "\n",
       "    .dataframe tbody tr th {\n",
       "        vertical-align: top;\n",
       "    }\n",
       "\n",
       "    .dataframe thead th {\n",
       "        text-align: right;\n",
       "    }\n",
       "</style>\n",
       "<table border=\"1\" class=\"dataframe\">\n",
       "  <thead>\n",
       "    <tr style=\"text-align: right;\">\n",
       "      <th></th>\n",
       "      <th>count</th>\n",
       "      <th>mean</th>\n",
       "      <th>median</th>\n",
       "      <th>std</th>\n",
       "      <th>min</th>\n",
       "      <th>25%</th>\n",
       "      <th>50%</th>\n",
       "      <th>75%</th>\n",
       "      <th>max</th>\n",
       "    </tr>\n",
       "  </thead>\n",
       "  <tbody>\n",
       "    <tr>\n",
       "      <th>score</th>\n",
       "      <td>18625.0</td>\n",
       "      <td>6.950459</td>\n",
       "      <td>7.3</td>\n",
       "      <td>1.711736</td>\n",
       "      <td>0.5</td>\n",
       "      <td>6.0</td>\n",
       "      <td>7.3</td>\n",
       "      <td>8.2</td>\n",
       "      <td>10.0</td>\n",
       "    </tr>\n",
       "    <tr>\n",
       "      <th>release_year</th>\n",
       "      <td>18625.0</td>\n",
       "      <td>2006.515329</td>\n",
       "      <td>2007.0</td>\n",
       "      <td>4.587529</td>\n",
       "      <td>1970.0</td>\n",
       "      <td>2003.0</td>\n",
       "      <td>2007.0</td>\n",
       "      <td>2010.0</td>\n",
       "      <td>2016.0</td>\n",
       "    </tr>\n",
       "    <tr>\n",
       "      <th>release_month</th>\n",
       "      <td>18625.0</td>\n",
       "      <td>7.138470</td>\n",
       "      <td>8.0</td>\n",
       "      <td>3.476710</td>\n",
       "      <td>1.0</td>\n",
       "      <td>4.0</td>\n",
       "      <td>8.0</td>\n",
       "      <td>10.0</td>\n",
       "      <td>12.0</td>\n",
       "    </tr>\n",
       "    <tr>\n",
       "      <th>release_day</th>\n",
       "      <td>18625.0</td>\n",
       "      <td>15.603866</td>\n",
       "      <td>16.0</td>\n",
       "      <td>8.690128</td>\n",
       "      <td>1.0</td>\n",
       "      <td>8.0</td>\n",
       "      <td>16.0</td>\n",
       "      <td>23.0</td>\n",
       "      <td>31.0</td>\n",
       "    </tr>\n",
       "  </tbody>\n",
       "</table>\n",
       "</div>"
      ],
      "text/plain": [
       "                 count         mean  median       std     min     25%     50%  \\\n",
       "score          18625.0     6.950459     7.3  1.711736     0.5     6.0     7.3   \n",
       "release_year   18625.0  2006.515329  2007.0  4.587529  1970.0  2003.0  2007.0   \n",
       "release_month  18625.0     7.138470     8.0  3.476710     1.0     4.0     8.0   \n",
       "release_day    18625.0    15.603866    16.0  8.690128     1.0     8.0    16.0   \n",
       "\n",
       "                  75%     max  \n",
       "score             8.2    10.0  \n",
       "release_year   2010.0  2016.0  \n",
       "release_month    10.0    12.0  \n",
       "release_day      23.0    31.0  "
      ]
     },
     "execution_count": 134,
     "metadata": {},
     "output_type": "execute_result"
    }
   ],
   "source": [
    "estadistic_cont(df.select_dtypes('number'))"
   ]
  },
  {
   "cell_type": "markdown",
   "id": "933bdaae",
   "metadata": {},
   "source": [
    "The deviations seems to be relatively low. All seems in order\n",
    "\n",
    "In general, the scores are close to 7.0"
   ]
  },
  {
   "cell_type": "code",
   "execution_count": 135,
   "id": "b1c42996",
   "metadata": {},
   "outputs": [
    {
     "data": {
      "text/plain": [
       "6.950459060402685"
      ]
     },
     "execution_count": 135,
     "metadata": {},
     "output_type": "execute_result"
    }
   ],
   "source": [
    "df.score.mean()"
   ]
  },
  {
   "cell_type": "code",
   "execution_count": 136,
   "id": "50fef229",
   "metadata": {},
   "outputs": [
    {
     "data": {
      "image/png": "[encoded data removed]",
      "text/plain": [
       "<Figure size 640x480 with 1 Axes>"
      ]
     },
     "metadata": {},
     "output_type": "display_data"
    }
   ],
   "source": [
    "temp = df.groupby('score_phrase').score.mean().sort_values(ascending = False)\n",
    "#print(temp)\n",
    "\n",
    "temp.plot.bar();"
   ]
  },
  {
   "cell_type": "code",
   "execution_count": 137,
   "id": "f7add61b",
   "metadata": {
    "scrolled": false
   },
   "outputs": [
    {
     "data": {
      "image/png": "[encoded data removed]",
      "text/plain": [
       "<Figure size 640x480 with 1 Axes>"
      ]
     },
     "metadata": {},
     "output_type": "display_data"
    }
   ],
   "source": [
    "temp = df.groupby('release_year').score.mean().sort_values(ascending = False)\n",
    "#temp = df.groupby('score_phrase').score\n",
    "#print(temp)\n",
    "temp.plot.bar();"
   ]
  },
  {
   "cell_type": "code",
   "execution_count": 138,
   "id": "0eb6fe3b",
   "metadata": {
    "scrolled": false
   },
   "outputs": [
    {
     "data": {
      "text/plain": [
       "<Axes: xlabel='release_year'>"
      ]
     },
     "execution_count": 138,
     "metadata": {},
     "output_type": "execute_result"
    },
    {
     "data": {
      "image/png": "[encoded data removed]",
      "text/plain": [
       "<Figure size 640x480 with 1 Axes>"
      ]
     },
     "metadata": {},
     "output_type": "display_data"
    }
   ],
   "source": [
    "temp = df.groupby('release_year').score.mean().sort_index(ascending=False)\n",
    "temp.plot.bar()"
   ]
  },
  {
   "cell_type": "code",
   "execution_count": 139,
   "id": "0644ad0f",
   "metadata": {
    "scrolled": false
   },
   "outputs": [
    {
     "data": {
      "text/plain": [
       "2008    1915\n",
       "2009    1687\n",
       "2007    1610\n",
       "2010    1363\n",
       "2006    1208\n",
       "2005    1088\n",
       "2011    1073\n",
       "2000    1045\n",
       "2004     997\n",
       "2003     969\n",
       "2002     936\n",
       "1999     775\n",
       "2012     753\n",
       "2013     696\n",
       "2001     688\n",
       "2014     537\n",
       "2015     365\n",
       "1998     339\n",
       "2016     226\n",
       "1997     205\n",
       "1996     149\n",
       "1970       1\n",
       "Name: release_year, dtype: int64"
      ]
     },
     "execution_count": 139,
     "metadata": {},
     "output_type": "execute_result"
    }
   ],
   "source": [
    "df.release_year.value_counts()"
   ]
  },
  {
   "cell_type": "markdown",
   "id": "8cf04594",
   "metadata": {},
   "source": [
    "There is only one value for year of release 1970. It will be dropped that value since it is the only one for that year."
   ]
  },
  {
   "cell_type": "code",
   "execution_count": 140,
   "id": "5c8327a3",
   "metadata": {},
   "outputs": [
    {
     "data": {
      "text/html": [
       "<div>\n",
       "<style scoped>\n",
       "    .dataframe tbody tr th:only-of-type {\n",
       "        vertical-align: middle;\n",
       "    }\n",
       "\n",
       "    .dataframe tbody tr th {\n",
       "        vertical-align: top;\n",
       "    }\n",
       "\n",
       "    .dataframe thead th {\n",
       "        text-align: right;\n",
       "    }\n",
       "</style>\n",
       "<table border=\"1\" class=\"dataframe\">\n",
       "  <thead>\n",
       "    <tr style=\"text-align: right;\">\n",
       "      <th></th>\n",
       "      <th>title</th>\n",
       "      <th>score</th>\n",
       "      <th>score_phrase</th>\n",
       "      <th>platform</th>\n",
       "      <th>genre</th>\n",
       "      <th>release_year</th>\n",
       "      <th>release_month</th>\n",
       "      <th>release_day</th>\n",
       "    </tr>\n",
       "  </thead>\n",
       "  <tbody>\n",
       "    <tr>\n",
       "      <th>3682</th>\n",
       "      <td>The Walking Dead: The Game -- Episode 1: A New...</td>\n",
       "      <td>8.5</td>\n",
       "      <td>Great</td>\n",
       "      <td>Xbox 360</td>\n",
       "      <td>Adventure</td>\n",
       "      <td>1970</td>\n",
       "      <td>1</td>\n",
       "      <td>1</td>\n",
       "    </tr>\n",
       "  </tbody>\n",
       "</table>\n",
       "</div>"
      ],
      "text/plain": [
       "                                                  title  score score_phrase  \\\n",
       "3682  The Walking Dead: The Game -- Episode 1: A New...    8.5        Great   \n",
       "\n",
       "      platform      genre  release_year  release_month  release_day  \n",
       "3682  Xbox 360  Adventure          1970              1            1  "
      ]
     },
     "execution_count": 140,
     "metadata": {},
     "output_type": "execute_result"
    }
   ],
   "source": [
    "df[df.release_year == 1970].head()"
   ]
  },
  {
   "cell_type": "markdown",
   "id": "ba5e6952",
   "metadata": {},
   "source": [
    "Xbox 360 wasn't even released in that year. Must be an error."
   ]
  },
  {
   "cell_type": "code",
   "execution_count": 141,
   "id": "31bf68f9",
   "metadata": {},
   "outputs": [],
   "source": [
    "df = df[df['release_year'] != 1970]"
   ]
  },
  {
   "cell_type": "code",
   "execution_count": 142,
   "id": "3a387a81",
   "metadata": {},
   "outputs": [
    {
     "data": {
      "text/plain": [
       "2008    1915\n",
       "2009    1687\n",
       "2007    1610\n",
       "2010    1363\n",
       "2006    1208\n",
       "2005    1088\n",
       "2011    1073\n",
       "2000    1045\n",
       "2004     997\n",
       "2003     969\n",
       "2002     936\n",
       "1999     775\n",
       "2012     753\n",
       "2013     696\n",
       "2001     688\n",
       "2014     537\n",
       "2015     365\n",
       "1998     339\n",
       "2016     226\n",
       "1997     205\n",
       "1996     149\n",
       "Name: release_year, dtype: int64"
      ]
     },
     "execution_count": 142,
     "metadata": {},
     "output_type": "execute_result"
    }
   ],
   "source": [
    "df.release_year.value_counts()"
   ]
  },
  {
   "cell_type": "code",
   "execution_count": 143,
   "id": "7b225517",
   "metadata": {
    "scrolled": true
   },
   "outputs": [
    {
     "data": {
      "text/plain": [
       "<Axes: xlabel='release_year'>"
      ]
     },
     "execution_count": 143,
     "metadata": {},
     "output_type": "execute_result"
    },
    {
     "data": {
      "image/png": "[encoded data removed]",
      "text/plain": [
       "<Figure size 640x480 with 1 Axes>"
      ]
     },
     "metadata": {},
     "output_type": "display_data"
    }
   ],
   "source": [
    "temp = df.groupby('release_year').score.mean().sort_index(ascending=False)\n",
    "temp.plot.bar()"
   ]
  },
  {
   "cell_type": "code",
   "execution_count": 144,
   "id": "28b0883b",
   "metadata": {},
   "outputs": [
    {
     "data": {
      "text/plain": [
       "<Axes: xlabel='release_month'>"
      ]
     },
     "execution_count": 144,
     "metadata": {},
     "output_type": "execute_result"
    },
    {
     "data": {
      "image/png": "[encoded data removed]",
      "text/plain": [
       "<Figure size 640x480 with 1 Axes>"
      ]
     },
     "metadata": {},
     "output_type": "display_data"
    }
   ],
   "source": [
    "temp = df.groupby('release_month').score.mean().sort_index(ascending=False)\n",
    "temp.plot.bar()"
   ]
  },
  {
   "cell_type": "code",
   "execution_count": 145,
   "id": "22002f4e",
   "metadata": {},
   "outputs": [
    {
     "data": {
      "text/plain": [
       "<Axes: xlabel='release_day'>"
      ]
     },
     "execution_count": 145,
     "metadata": {},
     "output_type": "execute_result"
    },
    {
     "data": {
      "image/png": "[encoded data removed]",
      "text/plain": [
       "<Figure size 640x480 with 1 Axes>"
      ]
     },
     "metadata": {},
     "output_type": "display_data"
    }
   ],
   "source": [
    "temp = df.groupby('release_day').score.mean().sort_index(ascending=False)\n",
    "temp.plot.bar()"
   ]
  },
  {
   "cell_type": "code",
   "execution_count": 146,
   "id": "5eb7728d",
   "metadata": {},
   "outputs": [
    {
     "data": {
      "text/plain": [
       "<Axes: xlabel='release_year'>"
      ]
     },
     "execution_count": 146,
     "metadata": {},
     "output_type": "execute_result"
    },
    {
     "data": {
      "image/png": "[encoded data removed]",
      "text/plain": [
       "<Figure size 640x480 with 1 Axes>"
      ]
     },
     "metadata": {},
     "output_type": "display_data"
    }
   ],
   "source": [
    "#temp = df.groupby(['release_year',df.genre == 'Action']).score.mean().sort_index(ascending=False)\n",
    "temp = df[df['genre'] == 'Action'].groupby('release_year').score.mean().sort_index(ascending=False)\n",
    "temp.plot.bar()"
   ]
  },
  {
   "cell_type": "code",
   "execution_count": 147,
   "id": "f80ccf74",
   "metadata": {},
   "outputs": [
    {
     "data": {
      "text/plain": [
       "<Axes: xlabel='release_year'>"
      ]
     },
     "execution_count": 147,
     "metadata": {},
     "output_type": "execute_result"
    },
    {
     "data": {
      "image/png": "[encoded data removed]",
      "text/plain": [
       "<Figure size 640x480 with 1 Axes>"
      ]
     },
     "metadata": {},
     "output_type": "display_data"
    }
   ],
   "source": [
    "temp = df[df['genre'] == 'Sports'].groupby('release_year').score.mean().sort_index(ascending=False)\n",
    "temp.plot.bar()"
   ]
  },
  {
   "cell_type": "code",
   "execution_count": 148,
   "id": "256ab885",
   "metadata": {},
   "outputs": [
    {
     "data": {
      "text/plain": [
       "<Axes: xlabel='release_year'>"
      ]
     },
     "execution_count": 148,
     "metadata": {},
     "output_type": "execute_result"
    },
    {
     "data": {
      "image/png": "[encoded data removed]",
      "text/plain": [
       "<Figure size 640x480 with 1 Axes>"
      ]
     },
     "metadata": {},
     "output_type": "display_data"
    }
   ],
   "source": [
    "temp = df[df['genre'] == 'Shooter'].groupby('release_year').score.mean().sort_index(ascending=False)\n",
    "temp.plot.bar()"
   ]
  },
  {
   "cell_type": "code",
   "execution_count": 149,
   "id": "8843abac",
   "metadata": {},
   "outputs": [
    {
     "data": {
      "text/plain": [
       "<Axes: xlabel='release_year'>"
      ]
     },
     "execution_count": 149,
     "metadata": {},
     "output_type": "execute_result"
    },
    {
     "data": {
      "image/png": "[encoded data removed]",
      "text/plain": [
       "<Figure size 640x480 with 1 Axes>"
      ]
     },
     "metadata": {},
     "output_type": "display_data"
    }
   ],
   "source": [
    "temp = df[df['genre'] == 'Racing'].groupby('release_year').score.mean().sort_index(ascending=False)\n",
    "temp.plot.bar()"
   ]
  },
  {
   "cell_type": "code",
   "execution_count": 150,
   "id": "5dc228b7",
   "metadata": {
    "scrolled": false
   },
   "outputs": [
    {
     "data": {
      "text/plain": [
       "<Axes: xlabel='release_year'>"
      ]
     },
     "execution_count": 150,
     "metadata": {},
     "output_type": "execute_result"
    },
    {
     "data": {
      "image/png": "[encoded data removed]",
      "text/plain": [
       "<Figure size 640x480 with 1 Axes>"
      ]
     },
     "metadata": {},
     "output_type": "display_data"
    }
   ],
   "source": [
    "temp = df[df['genre'] == 'Adventure'].groupby('release_year').score.mean().sort_index(ascending=False)\n",
    "temp.plot.bar()"
   ]
  },
  {
   "cell_type": "markdown",
   "id": "b28e4167",
   "metadata": {},
   "source": [
    "For some genres, in years close to 1996, there is clear drop down in the score, but exploring other genres like Adventure or Racing, this is not the case."
   ]
  },
  {
   "cell_type": "markdown",
   "id": "445dfc7b",
   "metadata": {},
   "source": [
    "It is assumed that the name of the game (title) isn't relevant for the final score, so I has been dropped this column. The release year should be important due to the genre of the game. There were some year where a certain genres were the most played or significant. However, the release month and day could be ignored (It is considered that these information in least impactful than the year of release)."
   ]
  },
  {
   "cell_type": "code",
   "execution_count": 151,
   "id": "cfd37fe6",
   "metadata": {},
   "outputs": [
    {
     "data": {
      "text/html": [
       "<div>\n",
       "<style scoped>\n",
       "    .dataframe tbody tr th:only-of-type {\n",
       "        vertical-align: middle;\n",
       "    }\n",
       "\n",
       "    .dataframe tbody tr th {\n",
       "        vertical-align: top;\n",
       "    }\n",
       "\n",
       "    .dataframe thead th {\n",
       "        text-align: right;\n",
       "    }\n",
       "</style>\n",
       "<table border=\"1\" class=\"dataframe\">\n",
       "  <thead>\n",
       "    <tr style=\"text-align: right;\">\n",
       "      <th></th>\n",
       "      <th>score</th>\n",
       "      <th>score_phrase</th>\n",
       "      <th>platform</th>\n",
       "      <th>genre</th>\n",
       "      <th>release_year</th>\n",
       "    </tr>\n",
       "  </thead>\n",
       "  <tbody>\n",
       "    <tr>\n",
       "      <th>0</th>\n",
       "      <td>10.0</td>\n",
       "      <td>Masterpiece</td>\n",
       "      <td>Lynx</td>\n",
       "      <td>Racing</td>\n",
       "      <td>1999</td>\n",
       "    </tr>\n",
       "    <tr>\n",
       "      <th>1</th>\n",
       "      <td>10.0</td>\n",
       "      <td>Masterpiece</td>\n",
       "      <td>Wii</td>\n",
       "      <td>Action, RPG</td>\n",
       "      <td>2011</td>\n",
       "    </tr>\n",
       "    <tr>\n",
       "      <th>2</th>\n",
       "      <td>10.0</td>\n",
       "      <td>Masterpiece</td>\n",
       "      <td>Game Boy Color</td>\n",
       "      <td>RPG</td>\n",
       "      <td>2001</td>\n",
       "    </tr>\n",
       "  </tbody>\n",
       "</table>\n",
       "</div>"
      ],
      "text/plain": [
       "   score score_phrase        platform        genre  release_year\n",
       "0   10.0  Masterpiece            Lynx       Racing          1999\n",
       "1   10.0  Masterpiece             Wii  Action, RPG          2011\n",
       "2   10.0  Masterpiece  Game Boy Color          RPG          2001"
      ]
     },
     "execution_count": 151,
     "metadata": {},
     "output_type": "execute_result"
    }
   ],
   "source": [
    "df1 = df.drop(['title','release_month','release_day'], axis='columns')\n",
    "\n",
    "for i in df1.genre:\n",
    "    #print(i)\n",
    "    #print(df_without_title_col.genre.iloc[i])\n",
    "    try:\n",
    "        if df1.genre.value_counts()[i]<20:\n",
    "            df1.genre = df1.genre.replace(i,'other genre')\n",
    "    except:\n",
    "        a=2\n",
    "    #print(i)  \n",
    "\n",
    "\n",
    "df1.head(3)"
   ]
  },
  {
   "cell_type": "code",
   "execution_count": 152,
   "id": "c8a7ee5a",
   "metadata": {},
   "outputs": [
    {
     "data": {
      "text/plain": [
       "(18624, 5)"
      ]
     },
     "execution_count": 152,
     "metadata": {},
     "output_type": "execute_result"
    }
   ],
   "source": [
    "df1.shape"
   ]
  },
  {
   "cell_type": "code",
   "execution_count": 153,
   "id": "408f950d",
   "metadata": {},
   "outputs": [
    {
     "data": {
      "text/plain": [
       "score            0\n",
       "score_phrase     0\n",
       "platform         0\n",
       "genre           36\n",
       "release_year     0\n",
       "dtype: int64"
      ]
     },
     "execution_count": 153,
     "metadata": {},
     "output_type": "execute_result"
    }
   ],
   "source": [
    "df1.isna().sum()"
   ]
  },
  {
   "cell_type": "markdown",
   "id": "39e10e95",
   "metadata": {},
   "source": [
    "There are 36 null cells in the database related to the genre column. Because this quantity is quite low in comparison with the total no. of raws, I 'll drop them."
   ]
  },
  {
   "cell_type": "code",
   "execution_count": 154,
   "id": "25ed7d68",
   "metadata": {},
   "outputs": [
    {
     "data": {
      "text/plain": [
       "score           0\n",
       "score_phrase    0\n",
       "platform        0\n",
       "genre           0\n",
       "release_year    0\n",
       "dtype: int64"
      ]
     },
     "execution_count": 154,
     "metadata": {},
     "output_type": "execute_result"
    }
   ],
   "source": [
    "df2 = df1[df1.genre.isnull() == False]\n",
    "df2.isna().sum()"
   ]
  },
  {
   "cell_type": "code",
   "execution_count": 155,
   "id": "ada6f7db",
   "metadata": {},
   "outputs": [
    {
     "data": {
      "text/plain": [
       "Action                 3797\n",
       "Sports                 1916\n",
       "Shooter                1610\n",
       "Racing                 1228\n",
       "Adventure              1174\n",
       "Strategy               1071\n",
       "RPG                     980\n",
       "Platformer              823\n",
       "Puzzle                  776\n",
       "Action, Adventure       765\n",
       "Simulation              567\n",
       "Fighting                547\n",
       "Music                   371\n",
       "Action, RPG             330\n",
       "other genre             225\n",
       "Racing, Action          210\n",
       "Puzzle, Action          200\n",
       "Sports, Action          196\n",
       "Party                   141\n",
       "Wrestling               134\n",
       "Flight, Action          125\n",
       "Trivia                  119\n",
       "Board                   116\n",
       "Hunting                 112\n",
       "Card                    108\n",
       "Action, Compilation      89\n",
       "Virtual Pet              82\n",
       "Fighting, Action         77\n",
       "Strategy, RPG            77\n",
       "Pinball                  77\n",
       "Compilation              54\n",
       "Card, Battle             54\n",
       "Puzzle, Adventure        47\n",
       "Sports, Simulation       44\n",
       "Music, Action            39\n",
       "Productivity             39\n",
       "Flight, Simulation       37\n",
       "Action, Simulation       32\n",
       "Battle                   32\n",
       "Casino                   31\n",
       "Racing, Simulation       25\n",
       "Educational, Puzzle      25\n",
       "Flight                   24\n",
       "Shooter, RPG             22\n",
       "Other                    20\n",
       "Educational              20\n",
       "Name: genre, dtype: int64"
      ]
     },
     "execution_count": 155,
     "metadata": {},
     "output_type": "execute_result"
    }
   ],
   "source": [
    "df2.genre.value_counts()"
   ]
  },
  {
   "cell_type": "code",
   "execution_count": 156,
   "id": "8b4e2f98",
   "metadata": {},
   "outputs": [
    {
     "data": {
      "text/plain": [
       "46"
      ]
     },
     "execution_count": 156,
     "metadata": {},
     "output_type": "execute_result"
    }
   ],
   "source": [
    "len(df2.genre.unique())"
   ]
  },
  {
   "cell_type": "markdown",
   "id": "bcedf94a",
   "metadata": {},
   "source": [
    "I 'll do one hot encoding to handle with the genre column."
   ]
  },
  {
   "cell_type": "code",
   "execution_count": 157,
   "id": "fd59431d",
   "metadata": {},
   "outputs": [
    {
     "data": {
      "text/html": [
       "<div>\n",
       "<style scoped>\n",
       "    .dataframe tbody tr th:only-of-type {\n",
       "        vertical-align: middle;\n",
       "    }\n",
       "\n",
       "    .dataframe tbody tr th {\n",
       "        vertical-align: top;\n",
       "    }\n",
       "\n",
       "    .dataframe thead th {\n",
       "        text-align: right;\n",
       "    }\n",
       "</style>\n",
       "<table border=\"1\" class=\"dataframe\">\n",
       "  <thead>\n",
       "    <tr style=\"text-align: right;\">\n",
       "      <th></th>\n",
       "      <th>Action</th>\n",
       "      <th>Action, Adventure</th>\n",
       "      <th>Action, Compilation</th>\n",
       "      <th>Action, RPG</th>\n",
       "      <th>Action, Simulation</th>\n",
       "      <th>Adventure</th>\n",
       "      <th>Battle</th>\n",
       "      <th>Board</th>\n",
       "      <th>Card</th>\n",
       "      <th>Card, Battle</th>\n",
       "      <th>...</th>\n",
       "      <th>Simulation</th>\n",
       "      <th>Sports</th>\n",
       "      <th>Sports, Action</th>\n",
       "      <th>Sports, Simulation</th>\n",
       "      <th>Strategy</th>\n",
       "      <th>Strategy, RPG</th>\n",
       "      <th>Trivia</th>\n",
       "      <th>Virtual Pet</th>\n",
       "      <th>Wrestling</th>\n",
       "      <th>other genre</th>\n",
       "    </tr>\n",
       "  </thead>\n",
       "  <tbody>\n",
       "    <tr>\n",
       "      <th>0</th>\n",
       "      <td>0</td>\n",
       "      <td>0</td>\n",
       "      <td>0</td>\n",
       "      <td>0</td>\n",
       "      <td>0</td>\n",
       "      <td>0</td>\n",
       "      <td>0</td>\n",
       "      <td>0</td>\n",
       "      <td>0</td>\n",
       "      <td>0</td>\n",
       "      <td>...</td>\n",
       "      <td>0</td>\n",
       "      <td>0</td>\n",
       "      <td>0</td>\n",
       "      <td>0</td>\n",
       "      <td>0</td>\n",
       "      <td>0</td>\n",
       "      <td>0</td>\n",
       "      <td>0</td>\n",
       "      <td>0</td>\n",
       "      <td>0</td>\n",
       "    </tr>\n",
       "    <tr>\n",
       "      <th>1</th>\n",
       "      <td>0</td>\n",
       "      <td>0</td>\n",
       "      <td>0</td>\n",
       "      <td>1</td>\n",
       "      <td>0</td>\n",
       "      <td>0</td>\n",
       "      <td>0</td>\n",
       "      <td>0</td>\n",
       "      <td>0</td>\n",
       "      <td>0</td>\n",
       "      <td>...</td>\n",
       "      <td>0</td>\n",
       "      <td>0</td>\n",
       "      <td>0</td>\n",
       "      <td>0</td>\n",
       "      <td>0</td>\n",
       "      <td>0</td>\n",
       "      <td>0</td>\n",
       "      <td>0</td>\n",
       "      <td>0</td>\n",
       "      <td>0</td>\n",
       "    </tr>\n",
       "    <tr>\n",
       "      <th>2</th>\n",
       "      <td>0</td>\n",
       "      <td>0</td>\n",
       "      <td>0</td>\n",
       "      <td>0</td>\n",
       "      <td>0</td>\n",
       "      <td>0</td>\n",
       "      <td>0</td>\n",
       "      <td>0</td>\n",
       "      <td>0</td>\n",
       "      <td>0</td>\n",
       "      <td>...</td>\n",
       "      <td>0</td>\n",
       "      <td>0</td>\n",
       "      <td>0</td>\n",
       "      <td>0</td>\n",
       "      <td>0</td>\n",
       "      <td>0</td>\n",
       "      <td>0</td>\n",
       "      <td>0</td>\n",
       "      <td>0</td>\n",
       "      <td>0</td>\n",
       "    </tr>\n",
       "  </tbody>\n",
       "</table>\n",
       "<p>3 rows × 46 columns</p>\n",
       "</div>"
      ],
      "text/plain": [
       "   Action  Action, Adventure  Action, Compilation  Action, RPG  \\\n",
       "0       0                  0                    0            0   \n",
       "1       0                  0                    0            1   \n",
       "2       0                  0                    0            0   \n",
       "\n",
       "   Action, Simulation  Adventure  Battle  Board  Card  Card, Battle  ...  \\\n",
       "0                   0          0       0      0     0             0  ...   \n",
       "1                   0          0       0      0     0             0  ...   \n",
       "2                   0          0       0      0     0             0  ...   \n",
       "\n",
       "   Simulation  Sports  Sports, Action  Sports, Simulation  Strategy  \\\n",
       "0           0       0               0                   0         0   \n",
       "1           0       0               0                   0         0   \n",
       "2           0       0               0                   0         0   \n",
       "\n",
       "   Strategy, RPG  Trivia  Virtual Pet  Wrestling  other genre  \n",
       "0              0       0            0          0            0  \n",
       "1              0       0            0          0            0  \n",
       "2              0       0            0          0            0  \n",
       "\n",
       "[3 rows x 46 columns]"
      ]
     },
     "execution_count": 157,
     "metadata": {},
     "output_type": "execute_result"
    }
   ],
   "source": [
    "ohe = pd.get_dummies(df2.genre)\n",
    "ohe.head(3)"
   ]
  },
  {
   "cell_type": "code",
   "execution_count": 158,
   "id": "3ec8fcac",
   "metadata": {},
   "outputs": [
    {
     "data": {
      "text/html": [
       "<div>\n",
       "<style scoped>\n",
       "    .dataframe tbody tr th:only-of-type {\n",
       "        vertical-align: middle;\n",
       "    }\n",
       "\n",
       "    .dataframe tbody tr th {\n",
       "        vertical-align: top;\n",
       "    }\n",
       "\n",
       "    .dataframe thead th {\n",
       "        text-align: right;\n",
       "    }\n",
       "</style>\n",
       "<table border=\"1\" class=\"dataframe\">\n",
       "  <thead>\n",
       "    <tr style=\"text-align: right;\">\n",
       "      <th></th>\n",
       "      <th>score</th>\n",
       "      <th>score_phrase</th>\n",
       "      <th>platform</th>\n",
       "      <th>genre</th>\n",
       "      <th>release_year</th>\n",
       "      <th>Action</th>\n",
       "      <th>Action, Adventure</th>\n",
       "      <th>Action, Compilation</th>\n",
       "      <th>Action, RPG</th>\n",
       "      <th>Action, Simulation</th>\n",
       "      <th>...</th>\n",
       "      <th>Simulation</th>\n",
       "      <th>Sports</th>\n",
       "      <th>Sports, Action</th>\n",
       "      <th>Sports, Simulation</th>\n",
       "      <th>Strategy</th>\n",
       "      <th>Strategy, RPG</th>\n",
       "      <th>Trivia</th>\n",
       "      <th>Virtual Pet</th>\n",
       "      <th>Wrestling</th>\n",
       "      <th>other genre</th>\n",
       "    </tr>\n",
       "  </thead>\n",
       "  <tbody>\n",
       "    <tr>\n",
       "      <th>0</th>\n",
       "      <td>10.0</td>\n",
       "      <td>Masterpiece</td>\n",
       "      <td>Lynx</td>\n",
       "      <td>Racing</td>\n",
       "      <td>1999</td>\n",
       "      <td>0</td>\n",
       "      <td>0</td>\n",
       "      <td>0</td>\n",
       "      <td>0</td>\n",
       "      <td>0</td>\n",
       "      <td>...</td>\n",
       "      <td>0</td>\n",
       "      <td>0</td>\n",
       "      <td>0</td>\n",
       "      <td>0</td>\n",
       "      <td>0</td>\n",
       "      <td>0</td>\n",
       "      <td>0</td>\n",
       "      <td>0</td>\n",
       "      <td>0</td>\n",
       "      <td>0</td>\n",
       "    </tr>\n",
       "    <tr>\n",
       "      <th>1</th>\n",
       "      <td>10.0</td>\n",
       "      <td>Masterpiece</td>\n",
       "      <td>Wii</td>\n",
       "      <td>Action, RPG</td>\n",
       "      <td>2011</td>\n",
       "      <td>0</td>\n",
       "      <td>0</td>\n",
       "      <td>0</td>\n",
       "      <td>1</td>\n",
       "      <td>0</td>\n",
       "      <td>...</td>\n",
       "      <td>0</td>\n",
       "      <td>0</td>\n",
       "      <td>0</td>\n",
       "      <td>0</td>\n",
       "      <td>0</td>\n",
       "      <td>0</td>\n",
       "      <td>0</td>\n",
       "      <td>0</td>\n",
       "      <td>0</td>\n",
       "      <td>0</td>\n",
       "    </tr>\n",
       "    <tr>\n",
       "      <th>2</th>\n",
       "      <td>10.0</td>\n",
       "      <td>Masterpiece</td>\n",
       "      <td>Game Boy Color</td>\n",
       "      <td>RPG</td>\n",
       "      <td>2001</td>\n",
       "      <td>0</td>\n",
       "      <td>0</td>\n",
       "      <td>0</td>\n",
       "      <td>0</td>\n",
       "      <td>0</td>\n",
       "      <td>...</td>\n",
       "      <td>0</td>\n",
       "      <td>0</td>\n",
       "      <td>0</td>\n",
       "      <td>0</td>\n",
       "      <td>0</td>\n",
       "      <td>0</td>\n",
       "      <td>0</td>\n",
       "      <td>0</td>\n",
       "      <td>0</td>\n",
       "      <td>0</td>\n",
       "    </tr>\n",
       "    <tr>\n",
       "      <th>3</th>\n",
       "      <td>10.0</td>\n",
       "      <td>Masterpiece</td>\n",
       "      <td>Xbox 360</td>\n",
       "      <td>Action, Adventure</td>\n",
       "      <td>2008</td>\n",
       "      <td>0</td>\n",
       "      <td>1</td>\n",
       "      <td>0</td>\n",
       "      <td>0</td>\n",
       "      <td>0</td>\n",
       "      <td>...</td>\n",
       "      <td>0</td>\n",
       "      <td>0</td>\n",
       "      <td>0</td>\n",
       "      <td>0</td>\n",
       "      <td>0</td>\n",
       "      <td>0</td>\n",
       "      <td>0</td>\n",
       "      <td>0</td>\n",
       "      <td>0</td>\n",
       "      <td>0</td>\n",
       "    </tr>\n",
       "    <tr>\n",
       "      <th>4</th>\n",
       "      <td>10.0</td>\n",
       "      <td>Masterpiece</td>\n",
       "      <td>PlayStation 3</td>\n",
       "      <td>Action, Adventure</td>\n",
       "      <td>2008</td>\n",
       "      <td>0</td>\n",
       "      <td>1</td>\n",
       "      <td>0</td>\n",
       "      <td>0</td>\n",
       "      <td>0</td>\n",
       "      <td>...</td>\n",
       "      <td>0</td>\n",
       "      <td>0</td>\n",
       "      <td>0</td>\n",
       "      <td>0</td>\n",
       "      <td>0</td>\n",
       "      <td>0</td>\n",
       "      <td>0</td>\n",
       "      <td>0</td>\n",
       "      <td>0</td>\n",
       "      <td>0</td>\n",
       "    </tr>\n",
       "  </tbody>\n",
       "</table>\n",
       "<p>5 rows × 51 columns</p>\n",
       "</div>"
      ],
      "text/plain": [
       "   score score_phrase        platform              genre  release_year  \\\n",
       "0   10.0  Masterpiece            Lynx             Racing          1999   \n",
       "1   10.0  Masterpiece             Wii        Action, RPG          2011   \n",
       "2   10.0  Masterpiece  Game Boy Color                RPG          2001   \n",
       "3   10.0  Masterpiece        Xbox 360  Action, Adventure          2008   \n",
       "4   10.0  Masterpiece   PlayStation 3  Action, Adventure          2008   \n",
       "\n",
       "   Action  Action, Adventure  Action, Compilation  Action, RPG  \\\n",
       "0       0                  0                    0            0   \n",
       "1       0                  0                    0            1   \n",
       "2       0                  0                    0            0   \n",
       "3       0                  1                    0            0   \n",
       "4       0                  1                    0            0   \n",
       "\n",
       "   Action, Simulation  ...  Simulation  Sports  Sports, Action  \\\n",
       "0                   0  ...           0       0               0   \n",
       "1                   0  ...           0       0               0   \n",
       "2                   0  ...           0       0               0   \n",
       "3                   0  ...           0       0               0   \n",
       "4                   0  ...           0       0               0   \n",
       "\n",
       "   Sports, Simulation  Strategy  Strategy, RPG  Trivia  Virtual Pet  \\\n",
       "0                   0         0              0       0            0   \n",
       "1                   0         0              0       0            0   \n",
       "2                   0         0              0       0            0   \n",
       "3                   0         0              0       0            0   \n",
       "4                   0         0              0       0            0   \n",
       "\n",
       "   Wrestling  other genre  \n",
       "0          0            0  \n",
       "1          0            0  \n",
       "2          0            0  \n",
       "3          0            0  \n",
       "4          0            0  \n",
       "\n",
       "[5 rows x 51 columns]"
      ]
     },
     "execution_count": 158,
     "metadata": {},
     "output_type": "execute_result"
    }
   ],
   "source": [
    "df3 = pd.concat([df2,ohe],axis='columns')\n",
    "df3.head()"
   ]
  },
  {
   "cell_type": "markdown",
   "id": "c1f472c1",
   "metadata": {},
   "source": [
    "I 'll drop a column from the new ones incorporated to avoid the Dummy Variable Trap."
   ]
  },
  {
   "cell_type": "code",
   "execution_count": 159,
   "id": "f388ba17",
   "metadata": {},
   "outputs": [
    {
     "data": {
      "text/html": [
       "<div>\n",
       "<style scoped>\n",
       "    .dataframe tbody tr th:only-of-type {\n",
       "        vertical-align: middle;\n",
       "    }\n",
       "\n",
       "    .dataframe tbody tr th {\n",
       "        vertical-align: top;\n",
       "    }\n",
       "\n",
       "    .dataframe thead th {\n",
       "        text-align: right;\n",
       "    }\n",
       "</style>\n",
       "<table border=\"1\" class=\"dataframe\">\n",
       "  <thead>\n",
       "    <tr style=\"text-align: right;\">\n",
       "      <th></th>\n",
       "      <th>score</th>\n",
       "      <th>score_phrase</th>\n",
       "      <th>platform</th>\n",
       "      <th>genre</th>\n",
       "      <th>release_year</th>\n",
       "      <th>Action</th>\n",
       "      <th>Action, Compilation</th>\n",
       "      <th>Action, RPG</th>\n",
       "      <th>Action, Simulation</th>\n",
       "      <th>Adventure</th>\n",
       "      <th>...</th>\n",
       "      <th>Simulation</th>\n",
       "      <th>Sports</th>\n",
       "      <th>Sports, Action</th>\n",
       "      <th>Sports, Simulation</th>\n",
       "      <th>Strategy</th>\n",
       "      <th>Strategy, RPG</th>\n",
       "      <th>Trivia</th>\n",
       "      <th>Virtual Pet</th>\n",
       "      <th>Wrestling</th>\n",
       "      <th>other genre</th>\n",
       "    </tr>\n",
       "  </thead>\n",
       "  <tbody>\n",
       "    <tr>\n",
       "      <th>0</th>\n",
       "      <td>10.0</td>\n",
       "      <td>Masterpiece</td>\n",
       "      <td>Lynx</td>\n",
       "      <td>Racing</td>\n",
       "      <td>1999</td>\n",
       "      <td>0</td>\n",
       "      <td>0</td>\n",
       "      <td>0</td>\n",
       "      <td>0</td>\n",
       "      <td>0</td>\n",
       "      <td>...</td>\n",
       "      <td>0</td>\n",
       "      <td>0</td>\n",
       "      <td>0</td>\n",
       "      <td>0</td>\n",
       "      <td>0</td>\n",
       "      <td>0</td>\n",
       "      <td>0</td>\n",
       "      <td>0</td>\n",
       "      <td>0</td>\n",
       "      <td>0</td>\n",
       "    </tr>\n",
       "    <tr>\n",
       "      <th>1</th>\n",
       "      <td>10.0</td>\n",
       "      <td>Masterpiece</td>\n",
       "      <td>Wii</td>\n",
       "      <td>Action, RPG</td>\n",
       "      <td>2011</td>\n",
       "      <td>0</td>\n",
       "      <td>0</td>\n",
       "      <td>1</td>\n",
       "      <td>0</td>\n",
       "      <td>0</td>\n",
       "      <td>...</td>\n",
       "      <td>0</td>\n",
       "      <td>0</td>\n",
       "      <td>0</td>\n",
       "      <td>0</td>\n",
       "      <td>0</td>\n",
       "      <td>0</td>\n",
       "      <td>0</td>\n",
       "      <td>0</td>\n",
       "      <td>0</td>\n",
       "      <td>0</td>\n",
       "    </tr>\n",
       "    <tr>\n",
       "      <th>2</th>\n",
       "      <td>10.0</td>\n",
       "      <td>Masterpiece</td>\n",
       "      <td>Game Boy Color</td>\n",
       "      <td>RPG</td>\n",
       "      <td>2001</td>\n",
       "      <td>0</td>\n",
       "      <td>0</td>\n",
       "      <td>0</td>\n",
       "      <td>0</td>\n",
       "      <td>0</td>\n",
       "      <td>...</td>\n",
       "      <td>0</td>\n",
       "      <td>0</td>\n",
       "      <td>0</td>\n",
       "      <td>0</td>\n",
       "      <td>0</td>\n",
       "      <td>0</td>\n",
       "      <td>0</td>\n",
       "      <td>0</td>\n",
       "      <td>0</td>\n",
       "      <td>0</td>\n",
       "    </tr>\n",
       "  </tbody>\n",
       "</table>\n",
       "<p>3 rows × 50 columns</p>\n",
       "</div>"
      ],
      "text/plain": [
       "   score score_phrase        platform        genre  release_year  Action  \\\n",
       "0   10.0  Masterpiece            Lynx       Racing          1999       0   \n",
       "1   10.0  Masterpiece             Wii  Action, RPG          2011       0   \n",
       "2   10.0  Masterpiece  Game Boy Color          RPG          2001       0   \n",
       "\n",
       "   Action, Compilation  Action, RPG  Action, Simulation  Adventure  ...  \\\n",
       "0                    0            0                   0          0  ...   \n",
       "1                    0            1                   0          0  ...   \n",
       "2                    0            0                   0          0  ...   \n",
       "\n",
       "   Simulation  Sports  Sports, Action  Sports, Simulation  Strategy  \\\n",
       "0           0       0               0                   0         0   \n",
       "1           0       0               0                   0         0   \n",
       "2           0       0               0                   0         0   \n",
       "\n",
       "   Strategy, RPG  Trivia  Virtual Pet  Wrestling  other genre  \n",
       "0              0       0            0          0            0  \n",
       "1              0       0            0          0            0  \n",
       "2              0       0            0          0            0  \n",
       "\n",
       "[3 rows x 50 columns]"
      ]
     },
     "execution_count": 159,
     "metadata": {},
     "output_type": "execute_result"
    }
   ],
   "source": [
    "df4 = df3.drop('Action, Adventure', axis='columns')\n",
    "df4.head(3)"
   ]
  },
  {
   "cell_type": "markdown",
   "id": "17e97b72",
   "metadata": {},
   "source": [
    "For the case of the score_phrase column, I 'll map the different values to numeric values through a dictionary."
   ]
  },
  {
   "cell_type": "code",
   "execution_count": 160,
   "id": "67fd05a1",
   "metadata": {},
   "outputs": [
    {
     "data": {
      "text/plain": [
       "array(['Masterpiece', 'Amazing', 'Great', 'Good', 'Okay', 'Mediocre',\n",
       "       'Bad', 'Awful', 'Painful', 'Unbearable', 'Disaster'], dtype=object)"
      ]
     },
     "execution_count": 160,
     "metadata": {},
     "output_type": "execute_result"
    }
   ],
   "source": [
    "df4.score_phrase.unique()"
   ]
  },
  {
   "cell_type": "code",
   "execution_count": 161,
   "id": "f28921e4",
   "metadata": {},
   "outputs": [
    {
     "data": {
      "text/plain": [
       "Great          4764\n",
       "Good           4725\n",
       "Okay           2940\n",
       "Mediocre       1957\n",
       "Amazing        1803\n",
       "Bad            1268\n",
       "Awful           662\n",
       "Painful         339\n",
       "Unbearable       72\n",
       "Masterpiece      55\n",
       "Disaster          3\n",
       "Name: score_phrase, dtype: int64"
      ]
     },
     "execution_count": 161,
     "metadata": {},
     "output_type": "execute_result"
    }
   ],
   "source": [
    "df4.score_phrase.value_counts()"
   ]
  },
  {
   "cell_type": "code",
   "execution_count": 162,
   "id": "8e266078",
   "metadata": {},
   "outputs": [],
   "source": [
    "dictionary = {}\n",
    "cont = 0\n",
    "for key in df4.score_phrase.unique():\n",
    "    dictionary[key] = cont\n",
    "    cont += 1"
   ]
  },
  {
   "cell_type": "code",
   "execution_count": 163,
   "id": "95aabea3",
   "metadata": {},
   "outputs": [
    {
     "data": {
      "text/html": [
       "<div>\n",
       "<style scoped>\n",
       "    .dataframe tbody tr th:only-of-type {\n",
       "        vertical-align: middle;\n",
       "    }\n",
       "\n",
       "    .dataframe tbody tr th {\n",
       "        vertical-align: top;\n",
       "    }\n",
       "\n",
       "    .dataframe thead th {\n",
       "        text-align: right;\n",
       "    }\n",
       "</style>\n",
       "<table border=\"1\" class=\"dataframe\">\n",
       "  <thead>\n",
       "    <tr style=\"text-align: right;\">\n",
       "      <th></th>\n",
       "      <th>score</th>\n",
       "      <th>score_phrase</th>\n",
       "      <th>platform</th>\n",
       "      <th>genre</th>\n",
       "      <th>release_year</th>\n",
       "      <th>Action</th>\n",
       "      <th>Action, Compilation</th>\n",
       "      <th>Action, RPG</th>\n",
       "      <th>Action, Simulation</th>\n",
       "      <th>Adventure</th>\n",
       "      <th>...</th>\n",
       "      <th>Sports</th>\n",
       "      <th>Sports, Action</th>\n",
       "      <th>Sports, Simulation</th>\n",
       "      <th>Strategy</th>\n",
       "      <th>Strategy, RPG</th>\n",
       "      <th>Trivia</th>\n",
       "      <th>Virtual Pet</th>\n",
       "      <th>Wrestling</th>\n",
       "      <th>other genre</th>\n",
       "      <th>score_phrase_num</th>\n",
       "    </tr>\n",
       "  </thead>\n",
       "  <tbody>\n",
       "    <tr>\n",
       "      <th>0</th>\n",
       "      <td>10.0</td>\n",
       "      <td>Masterpiece</td>\n",
       "      <td>Lynx</td>\n",
       "      <td>Racing</td>\n",
       "      <td>1999</td>\n",
       "      <td>0</td>\n",
       "      <td>0</td>\n",
       "      <td>0</td>\n",
       "      <td>0</td>\n",
       "      <td>0</td>\n",
       "      <td>...</td>\n",
       "      <td>0</td>\n",
       "      <td>0</td>\n",
       "      <td>0</td>\n",
       "      <td>0</td>\n",
       "      <td>0</td>\n",
       "      <td>0</td>\n",
       "      <td>0</td>\n",
       "      <td>0</td>\n",
       "      <td>0</td>\n",
       "      <td>0</td>\n",
       "    </tr>\n",
       "    <tr>\n",
       "      <th>1</th>\n",
       "      <td>10.0</td>\n",
       "      <td>Masterpiece</td>\n",
       "      <td>Wii</td>\n",
       "      <td>Action, RPG</td>\n",
       "      <td>2011</td>\n",
       "      <td>0</td>\n",
       "      <td>0</td>\n",
       "      <td>1</td>\n",
       "      <td>0</td>\n",
       "      <td>0</td>\n",
       "      <td>...</td>\n",
       "      <td>0</td>\n",
       "      <td>0</td>\n",
       "      <td>0</td>\n",
       "      <td>0</td>\n",
       "      <td>0</td>\n",
       "      <td>0</td>\n",
       "      <td>0</td>\n",
       "      <td>0</td>\n",
       "      <td>0</td>\n",
       "      <td>0</td>\n",
       "    </tr>\n",
       "    <tr>\n",
       "      <th>2</th>\n",
       "      <td>10.0</td>\n",
       "      <td>Masterpiece</td>\n",
       "      <td>Game Boy Color</td>\n",
       "      <td>RPG</td>\n",
       "      <td>2001</td>\n",
       "      <td>0</td>\n",
       "      <td>0</td>\n",
       "      <td>0</td>\n",
       "      <td>0</td>\n",
       "      <td>0</td>\n",
       "      <td>...</td>\n",
       "      <td>0</td>\n",
       "      <td>0</td>\n",
       "      <td>0</td>\n",
       "      <td>0</td>\n",
       "      <td>0</td>\n",
       "      <td>0</td>\n",
       "      <td>0</td>\n",
       "      <td>0</td>\n",
       "      <td>0</td>\n",
       "      <td>0</td>\n",
       "    </tr>\n",
       "  </tbody>\n",
       "</table>\n",
       "<p>3 rows × 51 columns</p>\n",
       "</div>"
      ],
      "text/plain": [
       "   score score_phrase        platform        genre  release_year  Action  \\\n",
       "0   10.0  Masterpiece            Lynx       Racing          1999       0   \n",
       "1   10.0  Masterpiece             Wii  Action, RPG          2011       0   \n",
       "2   10.0  Masterpiece  Game Boy Color          RPG          2001       0   \n",
       "\n",
       "   Action, Compilation  Action, RPG  Action, Simulation  Adventure  ...  \\\n",
       "0                    0            0                   0          0  ...   \n",
       "1                    0            1                   0          0  ...   \n",
       "2                    0            0                   0          0  ...   \n",
       "\n",
       "   Sports  Sports, Action  Sports, Simulation  Strategy  Strategy, RPG  \\\n",
       "0       0               0                   0         0              0   \n",
       "1       0               0                   0         0              0   \n",
       "2       0               0                   0         0              0   \n",
       "\n",
       "   Trivia  Virtual Pet  Wrestling  other genre  score_phrase_num  \n",
       "0       0            0          0            0                 0  \n",
       "1       0            0          0            0                 0  \n",
       "2       0            0          0            0                 0  \n",
       "\n",
       "[3 rows x 51 columns]"
      ]
     },
     "execution_count": 163,
     "metadata": {},
     "output_type": "execute_result"
    }
   ],
   "source": [
    "df4['score_phrase_num'] = df4.score_phrase.map(dictionary)\n",
    "df4.head(3)"
   ]
  },
  {
   "cell_type": "markdown",
   "id": "1fabed75",
   "metadata": {},
   "source": [
    "I 'll drop the genre and score_phrase columns just to have the dataframe more cleaned."
   ]
  },
  {
   "cell_type": "code",
   "execution_count": 164,
   "id": "a5882e42",
   "metadata": {},
   "outputs": [
    {
     "data": {
      "text/html": [
       "<div>\n",
       "<style scoped>\n",
       "    .dataframe tbody tr th:only-of-type {\n",
       "        vertical-align: middle;\n",
       "    }\n",
       "\n",
       "    .dataframe tbody tr th {\n",
       "        vertical-align: top;\n",
       "    }\n",
       "\n",
       "    .dataframe thead th {\n",
       "        text-align: right;\n",
       "    }\n",
       "</style>\n",
       "<table border=\"1\" class=\"dataframe\">\n",
       "  <thead>\n",
       "    <tr style=\"text-align: right;\">\n",
       "      <th></th>\n",
       "      <th>score</th>\n",
       "      <th>platform</th>\n",
       "      <th>release_year</th>\n",
       "      <th>Action</th>\n",
       "      <th>Action, Compilation</th>\n",
       "      <th>Action, RPG</th>\n",
       "      <th>Action, Simulation</th>\n",
       "      <th>Adventure</th>\n",
       "      <th>Battle</th>\n",
       "      <th>Board</th>\n",
       "      <th>...</th>\n",
       "      <th>Sports</th>\n",
       "      <th>Sports, Action</th>\n",
       "      <th>Sports, Simulation</th>\n",
       "      <th>Strategy</th>\n",
       "      <th>Strategy, RPG</th>\n",
       "      <th>Trivia</th>\n",
       "      <th>Virtual Pet</th>\n",
       "      <th>Wrestling</th>\n",
       "      <th>other genre</th>\n",
       "      <th>score_phrase_num</th>\n",
       "    </tr>\n",
       "  </thead>\n",
       "  <tbody>\n",
       "    <tr>\n",
       "      <th>0</th>\n",
       "      <td>10.0</td>\n",
       "      <td>Lynx</td>\n",
       "      <td>1999</td>\n",
       "      <td>0</td>\n",
       "      <td>0</td>\n",
       "      <td>0</td>\n",
       "      <td>0</td>\n",
       "      <td>0</td>\n",
       "      <td>0</td>\n",
       "      <td>0</td>\n",
       "      <td>...</td>\n",
       "      <td>0</td>\n",
       "      <td>0</td>\n",
       "      <td>0</td>\n",
       "      <td>0</td>\n",
       "      <td>0</td>\n",
       "      <td>0</td>\n",
       "      <td>0</td>\n",
       "      <td>0</td>\n",
       "      <td>0</td>\n",
       "      <td>0</td>\n",
       "    </tr>\n",
       "    <tr>\n",
       "      <th>1</th>\n",
       "      <td>10.0</td>\n",
       "      <td>Wii</td>\n",
       "      <td>2011</td>\n",
       "      <td>0</td>\n",
       "      <td>0</td>\n",
       "      <td>1</td>\n",
       "      <td>0</td>\n",
       "      <td>0</td>\n",
       "      <td>0</td>\n",
       "      <td>0</td>\n",
       "      <td>...</td>\n",
       "      <td>0</td>\n",
       "      <td>0</td>\n",
       "      <td>0</td>\n",
       "      <td>0</td>\n",
       "      <td>0</td>\n",
       "      <td>0</td>\n",
       "      <td>0</td>\n",
       "      <td>0</td>\n",
       "      <td>0</td>\n",
       "      <td>0</td>\n",
       "    </tr>\n",
       "    <tr>\n",
       "      <th>2</th>\n",
       "      <td>10.0</td>\n",
       "      <td>Game Boy Color</td>\n",
       "      <td>2001</td>\n",
       "      <td>0</td>\n",
       "      <td>0</td>\n",
       "      <td>0</td>\n",
       "      <td>0</td>\n",
       "      <td>0</td>\n",
       "      <td>0</td>\n",
       "      <td>0</td>\n",
       "      <td>...</td>\n",
       "      <td>0</td>\n",
       "      <td>0</td>\n",
       "      <td>0</td>\n",
       "      <td>0</td>\n",
       "      <td>0</td>\n",
       "      <td>0</td>\n",
       "      <td>0</td>\n",
       "      <td>0</td>\n",
       "      <td>0</td>\n",
       "      <td>0</td>\n",
       "    </tr>\n",
       "  </tbody>\n",
       "</table>\n",
       "<p>3 rows × 49 columns</p>\n",
       "</div>"
      ],
      "text/plain": [
       "   score        platform  release_year  Action  Action, Compilation  \\\n",
       "0   10.0            Lynx          1999       0                    0   \n",
       "1   10.0             Wii          2011       0                    0   \n",
       "2   10.0  Game Boy Color          2001       0                    0   \n",
       "\n",
       "   Action, RPG  Action, Simulation  Adventure  Battle  Board  ...  Sports  \\\n",
       "0            0                   0          0       0      0  ...       0   \n",
       "1            1                   0          0       0      0  ...       0   \n",
       "2            0                   0          0       0      0  ...       0   \n",
       "\n",
       "   Sports, Action  Sports, Simulation  Strategy  Strategy, RPG  Trivia  \\\n",
       "0               0                   0         0              0       0   \n",
       "1               0                   0         0              0       0   \n",
       "2               0                   0         0              0       0   \n",
       "\n",
       "   Virtual Pet  Wrestling  other genre  score_phrase_num  \n",
       "0            0          0            0                 0  \n",
       "1            0          0            0                 0  \n",
       "2            0          0            0                 0  \n",
       "\n",
       "[3 rows x 49 columns]"
      ]
     },
     "execution_count": 164,
     "metadata": {},
     "output_type": "execute_result"
    }
   ],
   "source": [
    "df5 = df4.drop(['score_phrase','genre'], axis='columns')\n",
    "df5.head(3)"
   ]
  },
  {
   "cell_type": "code",
   "execution_count": 165,
   "id": "f49d505b",
   "metadata": {},
   "outputs": [
    {
     "data": {
      "text/plain": [
       "PC                      3367\n",
       "PlayStation 2           1684\n",
       "Xbox 360                1630\n",
       "Wii                     1362\n",
       "PlayStation 3           1355\n",
       "Nintendo DS             1044\n",
       "PlayStation              952\n",
       "Wireless                 906\n",
       "iPhone                   828\n",
       "Xbox                     821\n",
       "PlayStation Portable     632\n",
       "Game Boy Advance         623\n",
       "GameCube                 509\n",
       "Game Boy Color           356\n",
       "Nintendo 64              302\n",
       "Dreamcast                286\n",
       "PlayStation 4            277\n",
       "Nintendo DSi             252\n",
       "Nintendo 3DS             222\n",
       "Xbox One                 208\n",
       "PlayStation Vita         155\n",
       "Wii U                    114\n",
       "iPad                      99\n",
       "Lynx                      82\n",
       "Macintosh                 81\n",
       "Genesis                   58\n",
       "NES                       49\n",
       "TurboGrafx-16             40\n",
       "Android                   39\n",
       "Super NES                 33\n",
       "NeoGeo Pocket Color       31\n",
       "N-Gage                    30\n",
       "Game Boy                  22\n",
       "iPod                      17\n",
       "Sega 32X                  16\n",
       "Windows Phone             14\n",
       "Master System             13\n",
       "Arcade                    11\n",
       "NeoGeo                    10\n",
       "Linux                     10\n",
       "Nintendo 64DD              7\n",
       "Saturn                     6\n",
       "Commodore 64/128           5\n",
       "Atari 2600                 5\n",
       "WonderSwan                 4\n",
       "TurboGrafx-CD              3\n",
       "Game.Com                   3\n",
       "Atari 5200                 2\n",
       "New Nintendo 3DS           2\n",
       "Vectrex                    2\n",
       "Dreamcast VMU              1\n",
       "Windows Surface            1\n",
       "Sega CD                    1\n",
       "WonderSwan Color           1\n",
       "Ouya                       1\n",
       "Web Games                  1\n",
       "Pocket PC                  1\n",
       "SteamOS                    1\n",
       "DVD / HD Video Game        1\n",
       "Name: platform, dtype: int64"
      ]
     },
     "execution_count": 165,
     "metadata": {},
     "output_type": "execute_result"
    }
   ],
   "source": [
    "df5.platform.value_counts()"
   ]
  },
  {
   "cell_type": "markdown",
   "id": "1f7d71a3",
   "metadata": {},
   "source": [
    "One hot encoding again"
   ]
  },
  {
   "cell_type": "code",
   "execution_count": 166,
   "id": "33411f44",
   "metadata": {},
   "outputs": [
    {
     "data": {
      "text/html": [
       "<div>\n",
       "<style scoped>\n",
       "    .dataframe tbody tr th:only-of-type {\n",
       "        vertical-align: middle;\n",
       "    }\n",
       "\n",
       "    .dataframe tbody tr th {\n",
       "        vertical-align: top;\n",
       "    }\n",
       "\n",
       "    .dataframe thead th {\n",
       "        text-align: right;\n",
       "    }\n",
       "</style>\n",
       "<table border=\"1\" class=\"dataframe\">\n",
       "  <thead>\n",
       "    <tr style=\"text-align: right;\">\n",
       "      <th></th>\n",
       "      <th>Android</th>\n",
       "      <th>Arcade</th>\n",
       "      <th>Atari 2600</th>\n",
       "      <th>Atari 5200</th>\n",
       "      <th>Commodore 64/128</th>\n",
       "      <th>DVD / HD Video Game</th>\n",
       "      <th>Dreamcast</th>\n",
       "      <th>Dreamcast VMU</th>\n",
       "      <th>Game Boy</th>\n",
       "      <th>Game Boy Advance</th>\n",
       "      <th>...</th>\n",
       "      <th>Windows Surface</th>\n",
       "      <th>Wireless</th>\n",
       "      <th>WonderSwan</th>\n",
       "      <th>WonderSwan Color</th>\n",
       "      <th>Xbox</th>\n",
       "      <th>Xbox 360</th>\n",
       "      <th>Xbox One</th>\n",
       "      <th>iPad</th>\n",
       "      <th>iPhone</th>\n",
       "      <th>iPod</th>\n",
       "    </tr>\n",
       "  </thead>\n",
       "  <tbody>\n",
       "    <tr>\n",
       "      <th>0</th>\n",
       "      <td>0</td>\n",
       "      <td>0</td>\n",
       "      <td>0</td>\n",
       "      <td>0</td>\n",
       "      <td>0</td>\n",
       "      <td>0</td>\n",
       "      <td>0</td>\n",
       "      <td>0</td>\n",
       "      <td>0</td>\n",
       "      <td>0</td>\n",
       "      <td>...</td>\n",
       "      <td>0</td>\n",
       "      <td>0</td>\n",
       "      <td>0</td>\n",
       "      <td>0</td>\n",
       "      <td>0</td>\n",
       "      <td>0</td>\n",
       "      <td>0</td>\n",
       "      <td>0</td>\n",
       "      <td>0</td>\n",
       "      <td>0</td>\n",
       "    </tr>\n",
       "    <tr>\n",
       "      <th>1</th>\n",
       "      <td>0</td>\n",
       "      <td>0</td>\n",
       "      <td>0</td>\n",
       "      <td>0</td>\n",
       "      <td>0</td>\n",
       "      <td>0</td>\n",
       "      <td>0</td>\n",
       "      <td>0</td>\n",
       "      <td>0</td>\n",
       "      <td>0</td>\n",
       "      <td>...</td>\n",
       "      <td>0</td>\n",
       "      <td>0</td>\n",
       "      <td>0</td>\n",
       "      <td>0</td>\n",
       "      <td>0</td>\n",
       "      <td>0</td>\n",
       "      <td>0</td>\n",
       "      <td>0</td>\n",
       "      <td>0</td>\n",
       "      <td>0</td>\n",
       "    </tr>\n",
       "    <tr>\n",
       "      <th>2</th>\n",
       "      <td>0</td>\n",
       "      <td>0</td>\n",
       "      <td>0</td>\n",
       "      <td>0</td>\n",
       "      <td>0</td>\n",
       "      <td>0</td>\n",
       "      <td>0</td>\n",
       "      <td>0</td>\n",
       "      <td>0</td>\n",
       "      <td>0</td>\n",
       "      <td>...</td>\n",
       "      <td>0</td>\n",
       "      <td>0</td>\n",
       "      <td>0</td>\n",
       "      <td>0</td>\n",
       "      <td>0</td>\n",
       "      <td>0</td>\n",
       "      <td>0</td>\n",
       "      <td>0</td>\n",
       "      <td>0</td>\n",
       "      <td>0</td>\n",
       "    </tr>\n",
       "  </tbody>\n",
       "</table>\n",
       "<p>3 rows × 59 columns</p>\n",
       "</div>"
      ],
      "text/plain": [
       "   Android  Arcade  Atari 2600  Atari 5200  Commodore 64/128  \\\n",
       "0        0       0           0           0                 0   \n",
       "1        0       0           0           0                 0   \n",
       "2        0       0           0           0                 0   \n",
       "\n",
       "   DVD / HD Video Game  Dreamcast  Dreamcast VMU  Game Boy  Game Boy Advance  \\\n",
       "0                    0          0              0         0                 0   \n",
       "1                    0          0              0         0                 0   \n",
       "2                    0          0              0         0                 0   \n",
       "\n",
       "   ...  Windows Surface  Wireless  WonderSwan  WonderSwan Color  Xbox  \\\n",
       "0  ...                0         0           0                 0     0   \n",
       "1  ...                0         0           0                 0     0   \n",
       "2  ...                0         0           0                 0     0   \n",
       "\n",
       "   Xbox 360  Xbox One  iPad  iPhone  iPod  \n",
       "0         0         0     0       0     0  \n",
       "1         0         0     0       0     0  \n",
       "2         0         0     0       0     0  \n",
       "\n",
       "[3 rows x 59 columns]"
      ]
     },
     "execution_count": 166,
     "metadata": {},
     "output_type": "execute_result"
    }
   ],
   "source": [
    "ohe = pd.get_dummies(df5.platform)\n",
    "ohe.head(3)"
   ]
  },
  {
   "cell_type": "code",
   "execution_count": 167,
   "id": "a64ab057",
   "metadata": {},
   "outputs": [
    {
     "data": {
      "text/html": [
       "<div>\n",
       "<style scoped>\n",
       "    .dataframe tbody tr th:only-of-type {\n",
       "        vertical-align: middle;\n",
       "    }\n",
       "\n",
       "    .dataframe tbody tr th {\n",
       "        vertical-align: top;\n",
       "    }\n",
       "\n",
       "    .dataframe thead th {\n",
       "        text-align: right;\n",
       "    }\n",
       "</style>\n",
       "<table border=\"1\" class=\"dataframe\">\n",
       "  <thead>\n",
       "    <tr style=\"text-align: right;\">\n",
       "      <th></th>\n",
       "      <th>score</th>\n",
       "      <th>platform</th>\n",
       "      <th>release_year</th>\n",
       "      <th>Action</th>\n",
       "      <th>Action, Compilation</th>\n",
       "      <th>Action, RPG</th>\n",
       "      <th>Action, Simulation</th>\n",
       "      <th>Adventure</th>\n",
       "      <th>Battle</th>\n",
       "      <th>Board</th>\n",
       "      <th>...</th>\n",
       "      <th>Windows Surface</th>\n",
       "      <th>Wireless</th>\n",
       "      <th>WonderSwan</th>\n",
       "      <th>WonderSwan Color</th>\n",
       "      <th>Xbox</th>\n",
       "      <th>Xbox 360</th>\n",
       "      <th>Xbox One</th>\n",
       "      <th>iPad</th>\n",
       "      <th>iPhone</th>\n",
       "      <th>iPod</th>\n",
       "    </tr>\n",
       "  </thead>\n",
       "  <tbody>\n",
       "    <tr>\n",
       "      <th>0</th>\n",
       "      <td>10.0</td>\n",
       "      <td>Lynx</td>\n",
       "      <td>1999</td>\n",
       "      <td>0</td>\n",
       "      <td>0</td>\n",
       "      <td>0</td>\n",
       "      <td>0</td>\n",
       "      <td>0</td>\n",
       "      <td>0</td>\n",
       "      <td>0</td>\n",
       "      <td>...</td>\n",
       "      <td>0</td>\n",
       "      <td>0</td>\n",
       "      <td>0</td>\n",
       "      <td>0</td>\n",
       "      <td>0</td>\n",
       "      <td>0</td>\n",
       "      <td>0</td>\n",
       "      <td>0</td>\n",
       "      <td>0</td>\n",
       "      <td>0</td>\n",
       "    </tr>\n",
       "    <tr>\n",
       "      <th>1</th>\n",
       "      <td>10.0</td>\n",
       "      <td>Wii</td>\n",
       "      <td>2011</td>\n",
       "      <td>0</td>\n",
       "      <td>0</td>\n",
       "      <td>1</td>\n",
       "      <td>0</td>\n",
       "      <td>0</td>\n",
       "      <td>0</td>\n",
       "      <td>0</td>\n",
       "      <td>...</td>\n",
       "      <td>0</td>\n",
       "      <td>0</td>\n",
       "      <td>0</td>\n",
       "      <td>0</td>\n",
       "      <td>0</td>\n",
       "      <td>0</td>\n",
       "      <td>0</td>\n",
       "      <td>0</td>\n",
       "      <td>0</td>\n",
       "      <td>0</td>\n",
       "    </tr>\n",
       "    <tr>\n",
       "      <th>2</th>\n",
       "      <td>10.0</td>\n",
       "      <td>Game Boy Color</td>\n",
       "      <td>2001</td>\n",
       "      <td>0</td>\n",
       "      <td>0</td>\n",
       "      <td>0</td>\n",
       "      <td>0</td>\n",
       "      <td>0</td>\n",
       "      <td>0</td>\n",
       "      <td>0</td>\n",
       "      <td>...</td>\n",
       "      <td>0</td>\n",
       "      <td>0</td>\n",
       "      <td>0</td>\n",
       "      <td>0</td>\n",
       "      <td>0</td>\n",
       "      <td>0</td>\n",
       "      <td>0</td>\n",
       "      <td>0</td>\n",
       "      <td>0</td>\n",
       "      <td>0</td>\n",
       "    </tr>\n",
       "  </tbody>\n",
       "</table>\n",
       "<p>3 rows × 108 columns</p>\n",
       "</div>"
      ],
      "text/plain": [
       "   score        platform  release_year  Action  Action, Compilation  \\\n",
       "0   10.0            Lynx          1999       0                    0   \n",
       "1   10.0             Wii          2011       0                    0   \n",
       "2   10.0  Game Boy Color          2001       0                    0   \n",
       "\n",
       "   Action, RPG  Action, Simulation  Adventure  Battle  Board  ...  \\\n",
       "0            0                   0          0       0      0  ...   \n",
       "1            1                   0          0       0      0  ...   \n",
       "2            0                   0          0       0      0  ...   \n",
       "\n",
       "   Windows Surface  Wireless  WonderSwan  WonderSwan Color  Xbox  Xbox 360  \\\n",
       "0                0         0           0                 0     0         0   \n",
       "1                0         0           0                 0     0         0   \n",
       "2                0         0           0                 0     0         0   \n",
       "\n",
       "   Xbox One  iPad  iPhone  iPod  \n",
       "0         0     0       0     0  \n",
       "1         0     0       0     0  \n",
       "2         0     0       0     0  \n",
       "\n",
       "[3 rows x 108 columns]"
      ]
     },
     "execution_count": 167,
     "metadata": {},
     "output_type": "execute_result"
    }
   ],
   "source": [
    "df6 = pd.concat([df5,ohe],axis='columns')\n",
    "df6.head(3)"
   ]
  },
  {
   "cell_type": "markdown",
   "id": "82649e82",
   "metadata": {},
   "source": [
    "To avoid Dummy variable trap, I 'll drop SteamOS column (choosed randomly). Also to finally obtained the definitve numeric dataframe, I 'll drop platform column"
   ]
  },
  {
   "cell_type": "code",
   "execution_count": 168,
   "id": "29afebcd",
   "metadata": {},
   "outputs": [
    {
     "data": {
      "text/html": [
       "<div>\n",
       "<style scoped>\n",
       "    .dataframe tbody tr th:only-of-type {\n",
       "        vertical-align: middle;\n",
       "    }\n",
       "\n",
       "    .dataframe tbody tr th {\n",
       "        vertical-align: top;\n",
       "    }\n",
       "\n",
       "    .dataframe thead th {\n",
       "        text-align: right;\n",
       "    }\n",
       "</style>\n",
       "<table border=\"1\" class=\"dataframe\">\n",
       "  <thead>\n",
       "    <tr style=\"text-align: right;\">\n",
       "      <th></th>\n",
       "      <th>score</th>\n",
       "      <th>release_year</th>\n",
       "      <th>Action</th>\n",
       "      <th>Action, Compilation</th>\n",
       "      <th>Action, RPG</th>\n",
       "      <th>Action, Simulation</th>\n",
       "      <th>Adventure</th>\n",
       "      <th>Battle</th>\n",
       "      <th>Board</th>\n",
       "      <th>Card</th>\n",
       "      <th>...</th>\n",
       "      <th>Windows Surface</th>\n",
       "      <th>Wireless</th>\n",
       "      <th>WonderSwan</th>\n",
       "      <th>WonderSwan Color</th>\n",
       "      <th>Xbox</th>\n",
       "      <th>Xbox 360</th>\n",
       "      <th>Xbox One</th>\n",
       "      <th>iPad</th>\n",
       "      <th>iPhone</th>\n",
       "      <th>iPod</th>\n",
       "    </tr>\n",
       "  </thead>\n",
       "  <tbody>\n",
       "    <tr>\n",
       "      <th>0</th>\n",
       "      <td>10.0</td>\n",
       "      <td>1999</td>\n",
       "      <td>0</td>\n",
       "      <td>0</td>\n",
       "      <td>0</td>\n",
       "      <td>0</td>\n",
       "      <td>0</td>\n",
       "      <td>0</td>\n",
       "      <td>0</td>\n",
       "      <td>0</td>\n",
       "      <td>...</td>\n",
       "      <td>0</td>\n",
       "      <td>0</td>\n",
       "      <td>0</td>\n",
       "      <td>0</td>\n",
       "      <td>0</td>\n",
       "      <td>0</td>\n",
       "      <td>0</td>\n",
       "      <td>0</td>\n",
       "      <td>0</td>\n",
       "      <td>0</td>\n",
       "    </tr>\n",
       "    <tr>\n",
       "      <th>1</th>\n",
       "      <td>10.0</td>\n",
       "      <td>2011</td>\n",
       "      <td>0</td>\n",
       "      <td>0</td>\n",
       "      <td>1</td>\n",
       "      <td>0</td>\n",
       "      <td>0</td>\n",
       "      <td>0</td>\n",
       "      <td>0</td>\n",
       "      <td>0</td>\n",
       "      <td>...</td>\n",
       "      <td>0</td>\n",
       "      <td>0</td>\n",
       "      <td>0</td>\n",
       "      <td>0</td>\n",
       "      <td>0</td>\n",
       "      <td>0</td>\n",
       "      <td>0</td>\n",
       "      <td>0</td>\n",
       "      <td>0</td>\n",
       "      <td>0</td>\n",
       "    </tr>\n",
       "    <tr>\n",
       "      <th>2</th>\n",
       "      <td>10.0</td>\n",
       "      <td>2001</td>\n",
       "      <td>0</td>\n",
       "      <td>0</td>\n",
       "      <td>0</td>\n",
       "      <td>0</td>\n",
       "      <td>0</td>\n",
       "      <td>0</td>\n",
       "      <td>0</td>\n",
       "      <td>0</td>\n",
       "      <td>...</td>\n",
       "      <td>0</td>\n",
       "      <td>0</td>\n",
       "      <td>0</td>\n",
       "      <td>0</td>\n",
       "      <td>0</td>\n",
       "      <td>0</td>\n",
       "      <td>0</td>\n",
       "      <td>0</td>\n",
       "      <td>0</td>\n",
       "      <td>0</td>\n",
       "    </tr>\n",
       "  </tbody>\n",
       "</table>\n",
       "<p>3 rows × 106 columns</p>\n",
       "</div>"
      ],
      "text/plain": [
       "   score  release_year  Action  Action, Compilation  Action, RPG  \\\n",
       "0   10.0          1999       0                    0            0   \n",
       "1   10.0          2011       0                    0            1   \n",
       "2   10.0          2001       0                    0            0   \n",
       "\n",
       "   Action, Simulation  Adventure  Battle  Board  Card  ...  Windows Surface  \\\n",
       "0                   0          0       0      0     0  ...                0   \n",
       "1                   0          0       0      0     0  ...                0   \n",
       "2                   0          0       0      0     0  ...                0   \n",
       "\n",
       "   Wireless  WonderSwan  WonderSwan Color  Xbox  Xbox 360  Xbox One  iPad  \\\n",
       "0         0           0                 0     0         0         0     0   \n",
       "1         0           0                 0     0         0         0     0   \n",
       "2         0           0                 0     0         0         0     0   \n",
       "\n",
       "   iPhone  iPod  \n",
       "0       0     0  \n",
       "1       0     0  \n",
       "2       0     0  \n",
       "\n",
       "[3 rows x 106 columns]"
      ]
     },
     "execution_count": 168,
     "metadata": {},
     "output_type": "execute_result"
    }
   ],
   "source": [
    "df7 = df6.drop(['platform','SteamOS'], axis='columns')\n",
    "df7.head(3)"
   ]
  },
  {
   "cell_type": "code",
   "execution_count": 169,
   "id": "695d20be",
   "metadata": {},
   "outputs": [],
   "source": [
    "from sklearn.model_selection import train_test_split\n",
    "\n",
    "X = df7.drop('score', axis='columns')\n",
    "y = df7.score\n",
    "\n",
    "X_train, X_test, y_train, y_test = train_test_split(X, y, test_size=0.2, random_state=1996)"
   ]
  },
  {
   "cell_type": "code",
   "execution_count": 170,
   "id": "51a5d5a0",
   "metadata": {},
   "outputs": [
    {
     "data": {
      "text/plain": [
       "(14870, 105)"
      ]
     },
     "execution_count": 170,
     "metadata": {},
     "output_type": "execute_result"
    }
   ],
   "source": [
    "X_train.shape"
   ]
  },
  {
   "cell_type": "code",
   "execution_count": 171,
   "id": "b9956f3d",
   "metadata": {},
   "outputs": [
    {
     "data": {
      "text/plain": [
       "(3718, 105)"
      ]
     },
     "execution_count": 171,
     "metadata": {},
     "output_type": "execute_result"
    }
   ],
   "source": [
    "X_test.shape"
   ]
  },
  {
   "cell_type": "code",
   "execution_count": 172,
   "id": "295d1008",
   "metadata": {},
   "outputs": [
    {
     "data": {
      "text/plain": [
       "(14870,)"
      ]
     },
     "execution_count": 172,
     "metadata": {},
     "output_type": "execute_result"
    }
   ],
   "source": [
    "y_train.shape"
   ]
  },
  {
   "cell_type": "code",
   "execution_count": 173,
   "id": "241a646f",
   "metadata": {},
   "outputs": [
    {
     "data": {
      "text/html": [
       "<style>#sk-container-id-2 {color: black;}#sk-container-id-2 pre{padding: 0;}#sk-container-id-2 div.sk-toggleable {background-color: white;}#sk-container-id-2 label.sk-toggleable__label {cursor: pointer;display: block;width: 100%;margin-bottom: 0;padding: 0.3em;box-sizing: border-box;text-align: center;}#sk-container-id-2 label.sk-toggleable__label-arrow:before {content: \"▸\";float: left;margin-right: 0.25em;color: #696969;}#sk-container-id-2 label.sk-toggleable__label-arrow:hover:before {color: black;}#sk-container-id-2 div.sk-estimator:hover label.sk-toggleable__label-arrow:before {color: black;}#sk-container-id-2 div.sk-toggleable__content {max-height: 0;max-width: 0;overflow: hidden;text-align: left;background-color: #f0f8ff;}#sk-container-id-2 div.sk-toggleable__content pre {margin: 0.2em;color: black;border-radius: 0.25em;background-color: #f0f8ff;}#sk-container-id-2 input.sk-toggleable__control:checked~div.sk-toggleable__content {max-height: 200px;max-width: 100%;overflow: auto;}#sk-container-id-2 input.sk-toggleable__control:checked~label.sk-toggleable__label-arrow:before {content: \"▾\";}#sk-container-id-2 div.sk-estimator input.sk-toggleable__control:checked~label.sk-toggleable__label {background-color: #d4ebff;}#sk-container-id-2 div.sk-label input.sk-toggleable__control:checked~label.sk-toggleable__label {background-color: #d4ebff;}#sk-container-id-2 input.sk-hidden--visually {border: 0;clip: rect(1px 1px 1px 1px);clip: rect(1px, 1px, 1px, 1px);height: 1px;margin: -1px;overflow: hidden;padding: 0;position: absolute;width: 1px;}#sk-container-id-2 div.sk-estimator {font-family: monospace;background-color: #f0f8ff;border: 1px dotted black;border-radius: 0.25em;box-sizing: border-box;margin-bottom: 0.5em;}#sk-container-id-2 div.sk-estimator:hover {background-color: #d4ebff;}#sk-container-id-2 div.sk-parallel-item::after {content: \"\";width: 100%;border-bottom: 1px solid gray;flex-grow: 1;}#sk-container-id-2 div.sk-label:hover label.sk-toggleable__label {background-color: #d4ebff;}#sk-container-id-2 div.sk-serial::before {content: \"\";position: absolute;border-left: 1px solid gray;box-sizing: border-box;top: 0;bottom: 0;left: 50%;z-index: 0;}#sk-container-id-2 div.sk-serial {display: flex;flex-direction: column;align-items: center;background-color: white;padding-right: 0.2em;padding-left: 0.2em;position: relative;}#sk-container-id-2 div.sk-item {position: relative;z-index: 1;}#sk-container-id-2 div.sk-parallel {display: flex;align-items: stretch;justify-content: center;background-color: white;position: relative;}#sk-container-id-2 div.sk-item::before, #sk-container-id-2 div.sk-parallel-item::before {content: \"\";position: absolute;border-left: 1px solid gray;box-sizing: border-box;top: 0;bottom: 0;left: 50%;z-index: -1;}#sk-container-id-2 div.sk-parallel-item {display: flex;flex-direction: column;z-index: 1;position: relative;background-color: white;}#sk-container-id-2 div.sk-parallel-item:first-child::after {align-self: flex-end;width: 50%;}#sk-container-id-2 div.sk-parallel-item:last-child::after {align-self: flex-start;width: 50%;}#sk-container-id-2 div.sk-parallel-item:only-child::after {width: 0;}#sk-container-id-2 div.sk-dashed-wrapped {border: 1px dashed gray;margin: 0 0.4em 0.5em 0.4em;box-sizing: border-box;padding-bottom: 0.4em;background-color: white;}#sk-container-id-2 div.sk-label label {font-family: monospace;font-weight: bold;display: inline-block;line-height: 1.2em;}#sk-container-id-2 div.sk-label-container {text-align: center;}#sk-container-id-2 div.sk-container {/* jupyter's `normalize.less` sets `[hidden] { display: none; }` but bootstrap.min.css set `[hidden] { display: none !important; }` so we also need the `!important` here to be able to override the default hidden behavior on the sphinx rendered scikit-learn.org. See: https://github.com/scikit-learn/scikit-learn/issues/21755 */display: inline-block !important;position: relative;}#sk-container-id-2 div.sk-text-repr-fallback {display: none;}</style><div id=\"sk-container-id-2\" class=\"sk-top-container\"><div class=\"sk-text-repr-fallback\"><pre>LinearRegression()</pre><b>In a Jupyter environment, please rerun this cell to show the HTML representation or trust the notebook. <br />On GitHub, the HTML representation is unable to render, please try loading this page with nbviewer.org.</b></div><div class=\"sk-container\" hidden><div class=\"sk-item\"><div class=\"sk-estimator sk-toggleable\"><input class=\"sk-toggleable__control sk-hidden--visually\" id=\"sk-estimator-id-2\" type=\"checkbox\" checked><label for=\"sk-estimator-id-2\" class=\"sk-toggleable__label sk-toggleable__label-arrow\">LinearRegression</label><div class=\"sk-toggleable__content\"><pre>LinearRegression()</pre></div></div></div></div></div>"
      ],
      "text/plain": [
       "LinearRegression()"
      ]
     },
     "execution_count": 173,
     "metadata": {},
     "output_type": "execute_result"
    }
   ],
   "source": [
    "from sklearn.linear_model import LinearRegression\n",
    "\n",
    "lr_model = LinearRegression()\n",
    "lr_model.fit(X_train, y_train)"
   ]
  },
  {
   "cell_type": "code",
   "execution_count": 174,
   "id": "b0c69a95",
   "metadata": {},
   "outputs": [
    {
     "data": {
      "text/plain": [
       "0.9701402353934749"
      ]
     },
     "execution_count": 174,
     "metadata": {},
     "output_type": "execute_result"
    }
   ],
   "source": [
    "lr_model.score(X_train, y_train)"
   ]
  },
  {
   "cell_type": "code",
   "execution_count": 175,
   "id": "0ef77f9c",
   "metadata": {},
   "outputs": [
    {
     "data": {
      "text/plain": [
       "0.9702448392076988"
      ]
     },
     "execution_count": 175,
     "metadata": {},
     "output_type": "execute_result"
    }
   ],
   "source": [
    "lr_model.score(X_test, y_test)"
   ]
  },
  {
   "cell_type": "code",
   "execution_count": 176,
   "id": "8c2ffa2c",
   "metadata": {},
   "outputs": [
    {
     "data": {
      "text/plain": [
       "array([6.23593447, 5.27422998, 8.3607948 , 8.37490561, 5.37757373])"
      ]
     },
     "execution_count": 176,
     "metadata": {},
     "output_type": "execute_result"
    }
   ],
   "source": [
    "lr_model.predict(X_test[:5])"
   ]
  },
  {
   "cell_type": "code",
   "execution_count": 177,
   "id": "3168c8eb",
   "metadata": {},
   "outputs": [
    {
     "name": "stderr",
     "output_type": "stream",
     "text": [
      "C:\\Users\\RAMOS\\AppData\\Local\\Temp\\ipykernel_22836\\1754177261.py:1: FutureWarning: The behavior of `series[i:j]` with an integer-dtype index is deprecated. In a future version, this will be treated as *label-based* indexing, consistent with e.g. `series[i]` lookups. To retain the old behavior, use `series.iloc[i:j]`. To get the future behavior, use `series.loc[i:j]`.\n",
      "  y_test[:5]\n"
     ]
    },
    {
     "data": {
      "text/plain": [
       "11478    6.9\n",
       "15974    5.0\n",
       "4158     8.3\n",
       "4449     8.2\n",
       "15474    5.1\n",
       "Name: score, dtype: float64"
      ]
     },
     "execution_count": 177,
     "metadata": {},
     "output_type": "execute_result"
    }
   ],
   "source": [
    "y_test[:5]"
   ]
  },
  {
   "cell_type": "code",
   "execution_count": 178,
   "id": "28ebff57",
   "metadata": {},
   "outputs": [],
   "source": [
    "from sklearn.pipeline import Pipeline"
   ]
  },
  {
   "cell_type": "code",
   "execution_count": 179,
   "id": "06898841",
   "metadata": {},
   "outputs": [
    {
     "data": {
      "text/html": [
       "<div>\n",
       "<style scoped>\n",
       "    .dataframe tbody tr th:only-of-type {\n",
       "        vertical-align: middle;\n",
       "    }\n",
       "\n",
       "    .dataframe tbody tr th {\n",
       "        vertical-align: top;\n",
       "    }\n",
       "\n",
       "    .dataframe thead th {\n",
       "        text-align: right;\n",
       "    }\n",
       "</style>\n",
       "<table border=\"1\" class=\"dataframe\">\n",
       "  <thead>\n",
       "    <tr style=\"text-align: right;\">\n",
       "      <th></th>\n",
       "      <th>release_year</th>\n",
       "      <th>Action</th>\n",
       "      <th>Action, Compilation</th>\n",
       "      <th>Action, RPG</th>\n",
       "      <th>Action, Simulation</th>\n",
       "      <th>Adventure</th>\n",
       "      <th>Battle</th>\n",
       "      <th>Board</th>\n",
       "      <th>Card</th>\n",
       "      <th>Card, Battle</th>\n",
       "      <th>...</th>\n",
       "      <th>Windows Surface</th>\n",
       "      <th>Wireless</th>\n",
       "      <th>WonderSwan</th>\n",
       "      <th>WonderSwan Color</th>\n",
       "      <th>Xbox</th>\n",
       "      <th>Xbox 360</th>\n",
       "      <th>Xbox One</th>\n",
       "      <th>iPad</th>\n",
       "      <th>iPhone</th>\n",
       "      <th>iPod</th>\n",
       "    </tr>\n",
       "  </thead>\n",
       "  <tbody>\n",
       "    <tr>\n",
       "      <th>7842</th>\n",
       "      <td>2003</td>\n",
       "      <td>0</td>\n",
       "      <td>0</td>\n",
       "      <td>0</td>\n",
       "      <td>0</td>\n",
       "      <td>0</td>\n",
       "      <td>0</td>\n",
       "      <td>0</td>\n",
       "      <td>0</td>\n",
       "      <td>0</td>\n",
       "      <td>...</td>\n",
       "      <td>0</td>\n",
       "      <td>0</td>\n",
       "      <td>0</td>\n",
       "      <td>0</td>\n",
       "      <td>0</td>\n",
       "      <td>0</td>\n",
       "      <td>0</td>\n",
       "      <td>0</td>\n",
       "      <td>0</td>\n",
       "      <td>0</td>\n",
       "    </tr>\n",
       "  </tbody>\n",
       "</table>\n",
       "<p>1 rows × 105 columns</p>\n",
       "</div>"
      ],
      "text/plain": [
       "      release_year  Action  Action, Compilation  Action, RPG  \\\n",
       "7842          2003       0                    0            0   \n",
       "\n",
       "      Action, Simulation  Adventure  Battle  Board  Card  Card, Battle  ...  \\\n",
       "7842                   0          0       0      0     0             0  ...   \n",
       "\n",
       "      Windows Surface  Wireless  WonderSwan  WonderSwan Color  Xbox  Xbox 360  \\\n",
       "7842                0         0           0                 0     0         0   \n",
       "\n",
       "      Xbox One  iPad  iPhone  iPod  \n",
       "7842         0     0       0     0  \n",
       "\n",
       "[1 rows x 105 columns]"
      ]
     },
     "execution_count": 179,
     "metadata": {},
     "output_type": "execute_result"
    }
   ],
   "source": [
    "X_train[:1]"
   ]
  },
  {
   "cell_type": "code",
   "execution_count": 180,
   "id": "d6791404",
   "metadata": {},
   "outputs": [
    {
     "data": {
      "text/plain": [
       "release_year           2003\n",
       "Action                    0\n",
       "Action, Compilation       0\n",
       "Action, RPG               0\n",
       "Action, Simulation        0\n",
       "                       ... \n",
       "Xbox 360                  0\n",
       "Xbox One                  0\n",
       "iPad                      0\n",
       "iPhone                    0\n",
       "iPod                      0\n",
       "Name: 7842, Length: 105, dtype: int64"
      ]
     },
     "execution_count": 180,
     "metadata": {},
     "output_type": "execute_result"
    }
   ],
   "source": [
    "X_train.iloc[0]"
   ]
  },
  {
   "cell_type": "code",
   "execution_count": 181,
   "id": "2cb91fdb",
   "metadata": {},
   "outputs": [
    {
     "data": {
      "text/html": [
       "<div>\n",
       "<style scoped>\n",
       "    .dataframe tbody tr th:only-of-type {\n",
       "        vertical-align: middle;\n",
       "    }\n",
       "\n",
       "    .dataframe tbody tr th {\n",
       "        vertical-align: top;\n",
       "    }\n",
       "\n",
       "    .dataframe thead th {\n",
       "        text-align: right;\n",
       "    }\n",
       "</style>\n",
       "<table border=\"1\" class=\"dataframe\">\n",
       "  <thead>\n",
       "    <tr style=\"text-align: right;\">\n",
       "      <th></th>\n",
       "      <th>title</th>\n",
       "      <th>score</th>\n",
       "      <th>score_phrase</th>\n",
       "      <th>platform</th>\n",
       "      <th>genre</th>\n",
       "      <th>release_year</th>\n",
       "      <th>release_month</th>\n",
       "      <th>release_day</th>\n",
       "    </tr>\n",
       "  </thead>\n",
       "  <tbody>\n",
       "    <tr>\n",
       "      <th>0</th>\n",
       "      <td>Checkered Flag</td>\n",
       "      <td>10.0</td>\n",
       "      <td>Masterpiece</td>\n",
       "      <td>Lynx</td>\n",
       "      <td>Racing</td>\n",
       "      <td>1999</td>\n",
       "      <td>7</td>\n",
       "      <td>6</td>\n",
       "    </tr>\n",
       "    <tr>\n",
       "      <th>1</th>\n",
       "      <td>Chrono Trigger</td>\n",
       "      <td>10.0</td>\n",
       "      <td>Masterpiece</td>\n",
       "      <td>Wii</td>\n",
       "      <td>Action, RPG</td>\n",
       "      <td>2011</td>\n",
       "      <td>5</td>\n",
       "      <td>25</td>\n",
       "    </tr>\n",
       "    <tr>\n",
       "      <th>2</th>\n",
       "      <td>Dragon Warrior III</td>\n",
       "      <td>10.0</td>\n",
       "      <td>Masterpiece</td>\n",
       "      <td>Game Boy Color</td>\n",
       "      <td>RPG</td>\n",
       "      <td>2001</td>\n",
       "      <td>7</td>\n",
       "      <td>20</td>\n",
       "    </tr>\n",
       "    <tr>\n",
       "      <th>3</th>\n",
       "      <td>Grand Theft Auto IV</td>\n",
       "      <td>10.0</td>\n",
       "      <td>Masterpiece</td>\n",
       "      <td>Xbox 360</td>\n",
       "      <td>Action, Adventure</td>\n",
       "      <td>2008</td>\n",
       "      <td>4</td>\n",
       "      <td>25</td>\n",
       "    </tr>\n",
       "    <tr>\n",
       "      <th>4</th>\n",
       "      <td>Grand Theft Auto IV</td>\n",
       "      <td>10.0</td>\n",
       "      <td>Masterpiece</td>\n",
       "      <td>PlayStation 3</td>\n",
       "      <td>Action, Adventure</td>\n",
       "      <td>2008</td>\n",
       "      <td>4</td>\n",
       "      <td>25</td>\n",
       "    </tr>\n",
       "  </tbody>\n",
       "</table>\n",
       "</div>"
      ],
      "text/plain": [
       "                 title  score score_phrase        platform              genre  \\\n",
       "0       Checkered Flag   10.0  Masterpiece            Lynx             Racing   \n",
       "1       Chrono Trigger   10.0  Masterpiece             Wii        Action, RPG   \n",
       "2   Dragon Warrior III   10.0  Masterpiece  Game Boy Color                RPG   \n",
       "3  Grand Theft Auto IV   10.0  Masterpiece        Xbox 360  Action, Adventure   \n",
       "4  Grand Theft Auto IV   10.0  Masterpiece   PlayStation 3  Action, Adventure   \n",
       "\n",
       "   release_year  release_month  release_day  \n",
       "0          1999              7            6  \n",
       "1          2011              5           25  \n",
       "2          2001              7           20  \n",
       "3          2008              4           25  \n",
       "4          2008              4           25  "
      ]
     },
     "execution_count": 181,
     "metadata": {},
     "output_type": "execute_result"
    }
   ],
   "source": [
    "df_test = df\n",
    "df_test.head()"
   ]
  },
  {
   "cell_type": "code",
   "execution_count": 182,
   "id": "97af4fe4",
   "metadata": {},
   "outputs": [
    {
     "data": {
      "text/html": [
       "<div>\n",
       "<style scoped>\n",
       "    .dataframe tbody tr th:only-of-type {\n",
       "        vertical-align: middle;\n",
       "    }\n",
       "\n",
       "    .dataframe tbody tr th {\n",
       "        vertical-align: top;\n",
       "    }\n",
       "\n",
       "    .dataframe thead th {\n",
       "        text-align: right;\n",
       "    }\n",
       "</style>\n",
       "<table border=\"1\" class=\"dataframe\">\n",
       "  <thead>\n",
       "    <tr style=\"text-align: right;\">\n",
       "      <th></th>\n",
       "      <th>title</th>\n",
       "      <th>score</th>\n",
       "      <th>score_phrase</th>\n",
       "      <th>platform</th>\n",
       "      <th>genre</th>\n",
       "      <th>release_year</th>\n",
       "      <th>release_month</th>\n",
       "      <th>release_day</th>\n",
       "    </tr>\n",
       "  </thead>\n",
       "  <tbody>\n",
       "  </tbody>\n",
       "</table>\n",
       "</div>"
      ],
      "text/plain": [
       "Empty DataFrame\n",
       "Columns: [title, score, score_phrase, platform, genre, release_year, release_month, release_day]\n",
       "Index: []"
      ]
     },
     "execution_count": 182,
     "metadata": {},
     "output_type": "execute_result"
    }
   ],
   "source": [
    "X_row_raw = df[:0]\n",
    "X_row_raw"
   ]
  },
  {
   "cell_type": "code",
   "execution_count": 184,
   "id": "0f2ab6d1",
   "metadata": {},
   "outputs": [],
   "source": [
    "#raw_variable = {'score_phrase':}\n",
    "\n",
    "def preprocess(X_row_raw):\n",
    "    \n",
    "    df_t = pd.read_csv('D:/ESCRITORIO/Github/Road to data science I/Database/IGN games from best to worst.csv')\n",
    "    df_t = df_t.drop('score',axis='columns')\n",
    "    df_t = df_t[df_t.genre.isnull() == False]\n",
    "    \n",
    "    for i in df_t.genre:\n",
    "        try:\n",
    "            if df_t.genre.value_counts()[i]<20:\n",
    "                df_t.genre = df_t.genre.replace(i,'other genre')\n",
    "        except:\n",
    "            a=2\n",
    "    \n",
    "    \n",
    "    X = pd.DataFrame([X_row_raw], columns=['title','score_phrase','platform','genre','release_year','release_month','release_day'])\n",
    "    \n",
    "    X = pd.concat([X,df_t])\n",
    "    \n",
    "    X = X.drop(['title','release_month','release_day'], axis='columns')\n",
    "    \n",
    "    ohe = pd.get_dummies(X.genre)\n",
    "    \n",
    "    X = pd.concat([X,ohe],axis='columns')\n",
    "    \n",
    "    X = X.drop('Action, Adventure', axis='columns')\n",
    "    \n",
    "    dictionary = {}\n",
    "    cont = 0\n",
    "    for key in df.score_phrase.unique():\n",
    "        dictionary[key] = cont\n",
    "        cont += 1\n",
    "    \n",
    "    X['score_phrase_num'] = X.score_phrase.map(dictionary)\n",
    "    \n",
    "    X = X.drop(['score_phrase','genre'], axis='columns')\n",
    "    \n",
    "    ohe = pd.get_dummies(X.platform)\n",
    "    \n",
    "    X = pd.concat([X,ohe],axis='columns')\n",
    "    \n",
    "    X = X.drop(['platform','SteamOS'], axis='columns')\n",
    "    \n",
    "    return X.iloc[:1]\n",
    "    \n",
    "\n",
    "    \n",
    "\n",
    "    \n",
    "    \n",
    "    "
   ]
  },
  {
   "cell_type": "code",
   "execution_count": 185,
   "id": "e01dfa25",
   "metadata": {
    "scrolled": true
   },
   "outputs": [
    {
     "data": {
      "text/html": [
       "<div>\n",
       "<style scoped>\n",
       "    .dataframe tbody tr th:only-of-type {\n",
       "        vertical-align: middle;\n",
       "    }\n",
       "\n",
       "    .dataframe tbody tr th {\n",
       "        vertical-align: top;\n",
       "    }\n",
       "\n",
       "    .dataframe thead th {\n",
       "        text-align: right;\n",
       "    }\n",
       "</style>\n",
       "<table border=\"1\" class=\"dataframe\">\n",
       "  <thead>\n",
       "    <tr style=\"text-align: right;\">\n",
       "      <th></th>\n",
       "      <th>release_year</th>\n",
       "      <th>Action</th>\n",
       "      <th>Action, Compilation</th>\n",
       "      <th>Action, RPG</th>\n",
       "      <th>Action, Simulation</th>\n",
       "      <th>Adventure</th>\n",
       "      <th>Battle</th>\n",
       "      <th>Board</th>\n",
       "      <th>Card</th>\n",
       "      <th>Card, Battle</th>\n",
       "      <th>...</th>\n",
       "      <th>Windows Surface</th>\n",
       "      <th>Wireless</th>\n",
       "      <th>WonderSwan</th>\n",
       "      <th>WonderSwan Color</th>\n",
       "      <th>Xbox</th>\n",
       "      <th>Xbox 360</th>\n",
       "      <th>Xbox One</th>\n",
       "      <th>iPad</th>\n",
       "      <th>iPhone</th>\n",
       "      <th>iPod</th>\n",
       "    </tr>\n",
       "  </thead>\n",
       "  <tbody>\n",
       "    <tr>\n",
       "      <th>0</th>\n",
       "      <td>1999</td>\n",
       "      <td>0</td>\n",
       "      <td>0</td>\n",
       "      <td>0</td>\n",
       "      <td>0</td>\n",
       "      <td>0</td>\n",
       "      <td>0</td>\n",
       "      <td>0</td>\n",
       "      <td>0</td>\n",
       "      <td>0</td>\n",
       "      <td>...</td>\n",
       "      <td>0</td>\n",
       "      <td>0</td>\n",
       "      <td>0</td>\n",
       "      <td>0</td>\n",
       "      <td>0</td>\n",
       "      <td>0</td>\n",
       "      <td>0</td>\n",
       "      <td>0</td>\n",
       "      <td>0</td>\n",
       "      <td>0</td>\n",
       "    </tr>\n",
       "  </tbody>\n",
       "</table>\n",
       "<p>1 rows × 105 columns</p>\n",
       "</div>"
      ],
      "text/plain": [
       "   release_year  Action  Action, Compilation  Action, RPG  Action, Simulation  \\\n",
       "0          1999       0                    0            0                   0   \n",
       "\n",
       "   Adventure  Battle  Board  Card  Card, Battle  ...  Windows Surface  \\\n",
       "0          0       0      0     0             0  ...                0   \n",
       "\n",
       "   Wireless  WonderSwan  WonderSwan Color  Xbox  Xbox 360  Xbox One  iPad  \\\n",
       "0         0           0                 0     0         0         0     0   \n",
       "\n",
       "   iPhone  iPod  \n",
       "0       0     0  \n",
       "\n",
       "[1 rows x 105 columns]"
      ]
     },
     "execution_count": 185,
     "metadata": {},
     "output_type": "execute_result"
    }
   ],
   "source": [
    "X = ['Checkered Flag','Masterpiece','Lynx','Racing',1999,7,6]\n",
    "preprocess(X)\n"
   ]
  },
  {
   "cell_type": "code",
   "execution_count": 186,
   "id": "3b72b085",
   "metadata": {},
   "outputs": [],
   "source": [
    "def prediction_func(X):\n",
    "    X = preprocess(X)\n",
    "    y_pred = lr_model.predict(X)\n",
    "    for i in range(len(y_pred)):\n",
    "        if y_pred[i] > 10:\n",
    "            y_pred[i] = 10\n",
    "    \n",
    "    return y_pred"
   ]
  },
  {
   "cell_type": "code",
   "execution_count": 187,
   "id": "5925b4b7",
   "metadata": {},
   "outputs": [
    {
     "data": {
      "text/plain": [
       "array([7.37704063])"
      ]
     },
     "execution_count": 187,
     "metadata": {},
     "output_type": "execute_result"
    }
   ],
   "source": [
    "X = ['Checkered Flag','Good','PC','Action',1999,7,6]\n",
    "prediction_func(X)\n"
   ]
  },
  {
   "cell_type": "code",
   "execution_count": 188,
   "id": "5e93c9f8",
   "metadata": {},
   "outputs": [
    {
     "data": {
      "text/plain": [
       "array([7.29749959])"
      ]
     },
     "execution_count": 188,
     "metadata": {},
     "output_type": "execute_result"
    }
   ],
   "source": [
    "X = ['Checkered Flag','Good','PC','Action',2020,7,6]\n",
    "prediction_func(X)"
   ]
  },
  {
   "cell_type": "code",
   "execution_count": null,
   "id": "93ffc5e1",
   "metadata": {},
   "outputs": [],
   "source": []
  }
 ],
 "metadata": {
  "kernelspec": {
   "display_name": "Python 3 (ipykernel)",
   "language": "python",
   "name": "python3"
  },
  "language_info": {
   "codemirror_mode": {
    "name": "ipython",
    "version": 3
   },
   "file_extension": ".py",
   "mimetype": "text/x-python",
   "name": "python",
   "nbconvert_exporter": "python",
   "pygments_lexer": "ipython3",
   "version": "3.10.9"
  }
 },
 "nbformat": 4,
 "nbformat_minor": 5
}
